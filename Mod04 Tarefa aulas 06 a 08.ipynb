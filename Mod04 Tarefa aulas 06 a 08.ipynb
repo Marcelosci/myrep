{
 "cells": [
  {
   "cell_type": "markdown",
   "metadata": {},
   "source": [
    "# Tarefa 03\n",
    "\n",
    "- Leia os enunciados com atenção\n",
    "- Saiba que pode haver mais de uma resposta correta\n",
    "- Insira novas células de código sempre que achar necessário\n",
    "- Em caso de dúvidas, procure os Tutores\n",
    "- Divirta-se :)"
   ]
  },
  {
   "cell_type": "code",
   "execution_count": 2,
   "metadata": {},
   "outputs": [],
   "source": [
    "import pandas as pd\n",
    "import requests"
   ]
  },
  {
   "cell_type": "markdown",
   "metadata": {},
   "source": [
    "####  1) Lendo de APIs\n",
    "Vimos em aula como carregar dados públicos do governo através de um API (*Application Programming Interface*). No exemplo de aula, baixamos os dados de pedidos de verificação de limites (PVL) realizados por estados, e selecionamos apenas aqueles referentes ao estado de São Paulo.\n",
    "\n",
    "1. Repita os mesmos passos feitos em aula, mas selecione os PVLs realizados por municípios no estado do Rio de Janeiro.\n",
    "2. Quais são os três *status* das solicitações mais frequentes na base? Quais são suas frequências?\n",
    "3. Construa uma nova variável que contenha o ano do **status**. Observe que ```data_status``` vem como tipo *object* no **DataFrame**. Dica: você pode usar o método ```.str``` para transformar o tipo da variável em string, em seguida um método como [**slice()**](https://pandas.pydata.org/docs/reference/api/pandas.Series.str.slice.html) ou [**split()**](https://pandas.pydata.org/pandas-docs/stable/reference/api/pandas.Series.str.split.html).\n",
    "4. Indique a frequência de cada ano do campo construído no item (3)."
   ]
  },
  {
   "cell_type": "code",
   "execution_count": 3,
   "metadata": {},
   "outputs": [
    {
     "name": "stdout",
     "output_type": "stream",
     "text": [
      "200\n",
      "   id_pleito tipo_interessado     interessado  cod_ibge  uf num_pvl  \\\n",
      "0       6981        Município  Rio de Janeiro   3304557  RJ    None   \n",
      "1       8999        Município        Itatiaia   3302254  RJ    None   \n",
      "2       6445        Município         Resende   3304201  RJ    None   \n",
      "3       5275        Município  Rio de Janeiro   3304557  RJ    None   \n",
      "4       5618        Município     Nova Iguaçu   3303500  RJ    None   \n",
      "\n",
      "                                              status          num_processo  \\\n",
      "0                                           Deferido  17944.000472/2007-90   \n",
      "1                     Arquivado por decurso de prazo  17944.000881/2014-15   \n",
      "2                                           Deferido  17944.000349/2013-17   \n",
      "3  Encaminhado à PGFN com manifestação técnica fa...  17944.000075/2014-47   \n",
      "4                                          Arquivado  17944.000156/2010-13   \n",
      "\n",
      "         data_protocolo                                      tipo_operacao  \\\n",
      "0  2007-04-30T03:00:00Z                        Operação contratual interna   \n",
      "1  2014-07-02T03:00:00Z                        Operação contratual interna   \n",
      "2  2013-08-22T03:00:00Z                        Operação contratual interna   \n",
      "3  2014-04-01T03:00:00Z  Operação contratual interna (com garantia da U...   \n",
      "4  2010-12-03T02:00:00Z                        Operação contratual interna   \n",
      "\n",
      "                                          finalidade  \\\n",
      "0                                  Saneamento básico   \n",
      "1  PAC 2 - Pró-Transporte - Pavimentação e Qualif...   \n",
      "2                                               PMAT   \n",
      "3                                     Infraestrutura   \n",
      "4                          PAC - Saneamento - 2009 A   \n",
      "\n",
      "                       tipo_credor  \\\n",
      "0  Instituição Financeira Nacional   \n",
      "1  Instituição Financeira Nacional   \n",
      "2  Instituição Financeira Nacional   \n",
      "3  Instituição Financeira Nacional   \n",
      "4  Instituição Financeira Nacional   \n",
      "\n",
      "                                              credor moeda         valor  \\\n",
      "0                            Caixa Econômica Federal  Real  7.403640e+06   \n",
      "1                            Caixa Econômica Federal  Real  1.500000e+07   \n",
      "2                                Banco do Brasil S/A  Real  4.213134e+06   \n",
      "3  Banco Nacional de Desenvolvimento Econômico e ...  Real  2.715389e+09   \n",
      "4                            Caixa Econômica Federal  Real  6.073730e+07   \n",
      "\n",
      "   pvl_assoc_divida  pvl_contradado_credor data_status  \n",
      "0                 1                      0  25/05/2007  \n",
      "1                 0                      0  18/02/2015  \n",
      "2                 1                      0  17/09/2013  \n",
      "3                 1                      0  29/05/2014  \n",
      "4                 0                      0  15/12/2010  \n"
     ]
    }
   ],
   "source": [
    "import requests\n",
    "import pandas as pd\n",
    "\n",
    "# 1) Carregar dados para os municípios no estado do Rio de Janeiro\n",
    "url = 'https://apidatalake.tesouro.gov.br/ords/sadipem/tt/pvl?uf=RJ&tipo_interessado=Município'\n",
    "\n",
    "# Fazer a requisição para a API\n",
    "r = requests.get(url)\n",
    "\n",
    "# Verificar o status da requisição\n",
    "print(r.status_code)\n",
    "\n",
    "# Converter a resposta em JSON\n",
    "data_json = r.json()\n",
    "\n",
    "# Criar um DataFrame com os dados\n",
    "df = pd.DataFrame(data_json['items'])\n",
    "\n",
    "# Exibir as primeiras linhas do DataFrame para conferência\n",
    "print(df.head())"
   ]
  },
  {
   "cell_type": "code",
   "execution_count": 5,
   "metadata": {},
   "outputs": [
    {
     "name": "stdout",
     "output_type": "stream",
     "text": [
      "Index(['id_pleito', 'tipo_interessado', 'interessado', 'cod_ibge', 'uf',\n",
      "       'num_pvl', 'status', 'num_processo', 'data_protocolo', 'tipo_operacao',\n",
      "       'finalidade', 'tipo_credor', 'credor', 'moeda', 'valor',\n",
      "       'pvl_assoc_divida', 'pvl_contradado_credor', 'data_status'],\n",
      "      dtype='object')\n",
      "Index(['id_pleito', 'tipo_interessado', 'interessado', 'cod_ibge', 'uf',\n",
      "       'num_pvl', 'status', 'num_processo', 'data_protocolo', 'tipo_operacao',\n",
      "       'finalidade', 'tipo_credor', 'credor', 'moeda', 'valor',\n",
      "       'pvl_assoc_divida', 'pvl_contradado_credor', 'data_status'],\n",
      "      dtype='object')\n",
      "Os três status mais frequentes e suas frequências:\n",
      "status\n",
      "Deferido        106\n",
      "Arquivado        53\n",
      "Regularizado     26\n",
      "Name: count, dtype: int64\n"
     ]
    }
   ],
   "source": [
    "# 1) Verificar os nomes das colunas no DataFrame\n",
    "print(df.columns)\n",
    "\n",
    "# 2) Encontrar os três status mais frequentes (substitua pelo nome correto da coluna de status)\n",
    "print(df.columns)\n",
    "\n",
    "# 2) Encontrar os três status mais frequentes usando o nome correto da coluna\n",
    "top_3_status = df['status'].value_counts().head(3)\n",
    "\n",
    "print(\"Os três status mais frequentes e suas frequências:\")\n",
    "print(top_3_status)\n"
   ]
  },
  {
   "cell_type": "code",
   "execution_count": 38,
   "metadata": {},
   "outputs": [
    {
     "name": "stdout",
     "output_type": "stream",
     "text": [
      "  data_status ano_status\n",
      "0  25/05/2007       25/0\n",
      "1  18/02/2015       18/0\n",
      "2  17/09/2013       17/0\n",
      "3  29/05/2014       29/0\n",
      "4  15/12/2010       15/1\n"
     ]
    }
   ],
   "source": [
    "# 3) Criar uma nova coluna contendo o ano do status\n",
    "df['data_status'] = df['data_status'].astype(str)  # Converter para string\n",
    "df['ano_status'] = df['data_status'].str.slice(0, 4)  # Extrair os primeiros 4 caracteres (ano)\n",
    "\n",
    "# Conferir as primeiras linhas da nova coluna\n",
    "print(df[['data_status', 'ano_status']].head())"
   ]
  },
  {
   "cell_type": "code",
   "execution_count": 40,
   "metadata": {},
   "outputs": [
    {
     "name": "stdout",
     "output_type": "stream",
     "text": [
      "Frequência de cada ano:\n",
      "ano_status\n",
      "13/0    14\n",
      "15/0    13\n",
      "28/0    13\n",
      "29/0    12\n",
      "26/0    11\n",
      "25/0    10\n",
      "06/0    10\n",
      "12/0    10\n",
      "30/1    10\n",
      "22/0     9\n",
      "27/0     9\n",
      "11/0     7\n",
      "10/0     7\n",
      "18/0     7\n",
      "21/0     6\n",
      "20/0     6\n",
      "02/0     6\n",
      "03/0     5\n",
      "09/0     5\n",
      "23/0     5\n",
      "23/1     5\n",
      "17/0     5\n",
      "10/1     4\n",
      "21/1     4\n",
      "31/0     4\n",
      "01/1     4\n",
      "04/0     4\n",
      "28/1     4\n",
      "30/0     4\n",
      "14/0     4\n",
      "01/0     4\n",
      "19/1     3\n",
      "17/1     3\n",
      "22/1     3\n",
      "24/0     3\n",
      "04/1     3\n",
      "07/0     3\n",
      "06/1     2\n",
      "05/0     2\n",
      "18/1     2\n",
      "08/0     2\n",
      "13/1     2\n",
      "19/0     2\n",
      "02/1     2\n",
      "05/1     1\n",
      "11/1     1\n",
      "09/1     1\n",
      "26/1     1\n",
      "08/1     1\n",
      "12/1     1\n",
      "14/1     1\n",
      "29/1     1\n",
      "31/1     1\n",
      "07/1     1\n",
      "27/1     1\n",
      "15/1     1\n",
      "16/0     1\n",
      "24/1     1\n",
      "20/1     1\n",
      "Name: count, dtype: int64\n"
     ]
    }
   ],
   "source": [
    "# 4) Frequência de cada ano do campo 'ano_status'\n",
    "frequencia_ano = df['ano_status'].value_counts()\n",
    "\n",
    "print(\"Frequência de cada ano:\")\n",
    "print(frequencia_ano)"
   ]
  },
  {
   "cell_type": "markdown",
   "metadata": {},
   "source": [
    "####  2) Melhorando a interação com o API\n",
    "Observe dois URLs de consultas diferentes, por exemplo o URL utilizado em aula, e o URL feito no exercício anterior. Compare-os e observe as diferenças.\n",
    "\n",
    "1. Faça uma função em Python que recebe como argumento o UF da consulta e o tipo de interessado (```'Estado'```ou ```Município```), e que devolve os dados da consulta no formato *DataFrame*.\n",
    "2. Quantas solicitações para o Estado podem ser consultadas para Minas Gerais com *status* em 'Arquivado por decurso de prazo' estão registradas?\n",
    "3. Qual é o município da Bahia com mais solicitações deferidas?\n",
    "4. Salve um arquivo .csv com os dados de solicitações da Bahia, com interessado = 'Estado'"
   ]
  },
  {
   "cell_type": "code",
   "execution_count": 11,
   "metadata": {},
   "outputs": [
    {
     "name": "stdout",
     "output_type": "stream",
     "text": [
      "Solicitações arquivadas em Minas Gerais: 1\n"
     ]
    }
   ],
   "source": [
    "# Seu código aqui\n",
    "import requests\n",
    "import pandas as pd\n",
    "\n",
    "# Função para obter dados do PVL de acordo com UF e tipo de interessado\n",
    "def obter_dados_pvl(uf, tipo_interessado):\n",
    "    url = f'https://apidatalake.tesouro.gov.br/ords/sadipem/tt/pvl?uf={uf}&tipo_interessado={tipo_interessado}'\n",
    "    response = requests.get(url)\n",
    "    \n",
    "    if response.status_code == 200:\n",
    "        data = response.json()\n",
    "        df = pd.DataFrame(data['items'])\n",
    "        return df\n",
    "    else:\n",
    "        print(f\"Erro na solicitação: {response.status_code}\")\n",
    "        return None\n",
    "\n",
    "# Consultar o estado de Minas Gerais com status 'Arquivado por decurso de prazo'\n",
    "df_mg = obter_dados_pvl('MG', 'Estado')\n",
    "\n",
    "# Filtrar por status 'Arquivado por decurso de prazo'\n",
    "solicitacoes_arquivadas = df_mg[df_mg['status'] == 'Arquivado por decurso de prazo']\n",
    "print(f\"Solicitações arquivadas em Minas Gerais: {solicitacoes_arquivadas.shape[0]}\")"
   ]
  },
  {
   "cell_type": "code",
   "execution_count": 13,
   "metadata": {},
   "outputs": [
    {
     "name": "stdout",
     "output_type": "stream",
     "text": [
      "Município da Bahia com mais solicitações deferidas: Luís Eduardo Magalhães\n"
     ]
    }
   ],
   "source": [
    "# Consultar os municípios da Bahia e encontrar o que tem mais solicitações deferidas\n",
    "df_ba_municipios = obter_dados_pvl('BA', 'Município')\n",
    "\n",
    "# Filtrar por status 'Deferido'\n",
    "solicitacoes_deferidas = df_ba_municipios[df_ba_municipios['status'] == 'Deferido']\n",
    "\n",
    "# Contar o número de solicitações deferidas por município\n",
    "municipio_mais_deferido = solicitacoes_deferidas['interessado'].value_counts().idxmax()\n",
    "print(f\"Município da Bahia com mais solicitações deferidas: {municipio_mais_deferido}\")"
   ]
  },
  {
   "cell_type": "code",
   "execution_count": 17,
   "metadata": {},
   "outputs": [
    {
     "name": "stdout",
     "output_type": "stream",
     "text": [
      "Arquivo CSV salvo com os dados do Estado da Bahia.\n"
     ]
    }
   ],
   "source": [
    "# Salvar um arquivo CSV com os dados da Bahia, interessado = 'Estado'\n",
    "df_ba_estado = obter_dados_pvl('BA', 'Estado')\n",
    "# Salvar em um arquivo CSV\n",
    "df_ba_estado.to_csv('solicitacoes_bahia_estado.csv', index=False)\n",
    "print(\"Arquivo CSV salvo com os dados do Estado da Bahia.\")"
   ]
  }
 ],
 "metadata": {
  "kernelspec": {
   "display_name": "Python 3 (ipykernel)",
   "language": "python",
   "name": "python3"
  },
  "language_info": {
   "codemirror_mode": {
    "name": "ipython",
    "version": 3
   },
   "file_extension": ".py",
   "mimetype": "text/x-python",
   "name": "python",
   "nbconvert_exporter": "python",
   "pygments_lexer": "ipython3",
   "version": "3.12.4"
  }
 },
 "nbformat": 4,
 "nbformat_minor": 4
}
