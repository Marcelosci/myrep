{
 "cells": [
  {
   "cell_type": "markdown",
   "metadata": {
    "id": "njUvbhQmC8-t"
   },
   "source": [
    "## Exercício 1: Vestibular\n",
    "\n",
    "Considere que a os dados gerados na célula abaixo contêm o número de acertos de 100 alunos em um vestibular para um curso de exatas, divididas pelos respectivos assuntos. Considere que cada assunto possui um número de questões conforme a tabela abaixo:\n",
    "\n",
    "| assunto | número de questões |\n",
    "|:---:|:---:|\n",
    "| Matemática | 24 |\n",
    "| Português | 18 |\n",
    "| Geografia | 8 |\n",
    "| Inglês | 8 |\n",
    "| História | 8 |\n",
    "| Física | 12 |\n",
    "| Química | 12 |\n",
    "\n",
    "Usando os comandos de operações com DataFrames que você aprendeu na Aula 03, calcule:\n",
    "\n",
    "1. (operações com escalar) Calcule o percentual de acerto dos alunos por assunto.  \n",
    "2. (operações entre *DataFrames) Calcule o total de acertos de cada aluno.  \n",
    "3. Calcule o porcentual geral de cada aluno.  \n",
    "4. Suponha que a nota de corte para a segunda fase seja 45. Quantos alunos tiveram nota maior que 45?  "
   ]
  },
  {
   "cell_type": "code",
   "execution_count": 48,
   "metadata": {
    "id": "Ll6TadxCC8-y"
   },
   "outputs": [],
   "source": [
    "import pandas as pd\n",
    "import numpy as np\n",
    "\n",
    "# Gerando os dados fornecidos\n",
    "np.random.seed(42)\n",
    "\n",
    "df_mat = pd.DataFrame(np.random.randint(24, size=(100, 1)), columns=['Matemática'])\n",
    "df_por = pd.DataFrame(np.random.randint(18, size=(100, 1)), columns=['Português'])\n",
    "df_geo = pd.DataFrame(np.random.randint(8, size=(100, 1)), columns=['Geografia'])\n",
    "df_ing = pd.DataFrame(np.random.randint(8, size=(100, 1)), columns=['Inglês'])\n",
    "df_his = pd.DataFrame(np.random.randint(8, size=(100, 1)), columns=['História'])\n",
    "df_fis = pd.DataFrame(np.random.randint(12, size=(100, 1)), columns=['Física'])\n",
    "df_qui = pd.DataFrame(np.random.randint(12, size=(100, 1)), columns=['Química'])"
   ]
  },
  {
   "cell_type": "code",
   "execution_count": 50,
   "metadata": {},
   "outputs": [],
   "source": [
    "# Concatenando todos os DataFrames para criar o DataFrame final\n",
    "df_total = pd.concat([df_mat, df_por, df_geo, df_ing, df_his, df_fis, df_qui], axis=1)\n",
    "\n",
    "# Criando um dicionário com o número de questões por assunto\n",
    "num_questoes = {\n",
    "    'Matemática': 24,\n",
    "    'Português': 18,\n",
    "    'Geografia': 8,\n",
    "    'Inglês': 8,\n",
    "    'História': 8,\n",
    "    'Física': 12,\n",
    "    'Química': 12\n",
    "}"
   ]
  },
  {
   "cell_type": "code",
   "execution_count": 37,
   "metadata": {
    "id": "JVmLXiC2C8-0"
   },
   "outputs": [
    {
     "name": "stdout",
     "output_type": "stream",
     "text": [
      "Percentual de acertos por assunto (primeiras 5 linhas):\n",
      "   Matemática  Português  Geografia  Inglês  História     Física    Química\n",
      "0   25.000000  38.888889       87.5    37.5      12.5  66.666667  25.000000\n",
      "1   79.166667  55.555556        0.0     0.0       0.0  91.666667  66.666667\n",
      "2   58.333333  88.888889        0.0    62.5      87.5  33.333333  33.333333\n",
      "3   41.666667  38.888889       37.5    50.0       0.0   0.000000  66.666667\n",
      "4   29.166667  11.111111       25.0    87.5       0.0  75.000000  25.000000\n"
     ]
    }
   ],
   "source": [
    "# 1. Calcular o percentual de acerto dos alunos por assunto\n",
    "percentual_acertos = df_total.div(num_questoes).mul(100)\n",
    "print(\"Percentual de acertos por assunto (primeiras 5 linhas):\")\n",
    "print(percentual_acertos.head())"
   ]
  },
  {
   "cell_type": "code",
   "execution_count": 38,
   "metadata": {
    "id": "JbTwCyNHC8-1"
   },
   "outputs": [
    {
     "name": "stdout",
     "output_type": "stream",
     "text": [
      "\n",
      "Total de acertos de cada aluno (primeiras 5 linhas):\n",
      "0    35\n",
      "1    48\n",
      "2    50\n",
      "3    32\n",
      "4    30\n",
      "dtype: int64\n"
     ]
    }
   ],
   "source": [
    "# 2. Calcular o total de acertos de cada aluno\n",
    "total_acertos = df_total.sum(axis=1)\n",
    "print(\"\\nTotal de acertos de cada aluno (primeiras 5 linhas):\")\n",
    "print(total_acertos.head())"
   ]
  },
  {
   "cell_type": "code",
   "execution_count": 40,
   "metadata": {
    "id": "c2L8dJkVC8-3"
   },
   "outputs": [
    {
     "name": "stdout",
     "output_type": "stream",
     "text": [
      "\n",
      "Percentual geral de cada aluno (primeiras 5 linhas):\n",
      "0    38.888889\n",
      "1    53.333333\n",
      "2    55.555556\n",
      "3    35.555556\n",
      "4    33.333333\n",
      "dtype: float64\n"
     ]
    }
   ],
   "source": [
    "# 3. Calcular o percentual geral de cada aluno\n",
    "total_questoes = sum(num_questoes.values())\n",
    "percentual_geral = total_acertos / total_questoes * 100\n",
    "print(\"\\nPercentual geral de cada aluno (primeiras 5 linhas):\")\n",
    "print(percentual_geral.head())"
   ]
  },
  {
   "cell_type": "code",
   "execution_count": 42,
   "metadata": {
    "id": "PZTZ7DFzC8-3"
   },
   "outputs": [
    {
     "name": "stdout",
     "output_type": "stream",
     "text": [
      "\n",
      "Número de alunos com nota maior que 45: 31\n"
     ]
    }
   ],
   "source": [
    "# 4. Quantos alunos tiveram nota maior que 45?\n",
    "nota_corte = 45\n",
    "alunos_acima_corte = total_acertos[total_acertos > nota_corte].count()\n",
    "print(f\"\\nNúmero de alunos com nota maior que {nota_corte}: {alunos_acima_corte}\")"
   ]
  },
  {
   "cell_type": "markdown",
   "metadata": {
    "id": "Hlfl75XXC8-4"
   },
   "source": [
    "## 2) Vestibular II\n",
    "\n",
    "Ainda sobre o mesmo banco de dados:\n",
    "\n",
    "1. Neste vestibular, quem 'zera' em matemática, física ou química está desqualificado. Monte um novo *DataFrame* com os alunos desqualificados por este critério.\n",
    "2. Quantos são esses alunos?\n",
    "3. Qual a média desses alunos em história e geografia?\n",
    "4. Monte um *DataFrame* com os alunos que passaram para a segunda fase. Repare que estes alunos não podem ter sido desqualificados."
   ]
  },
  {
   "cell_type": "code",
   "execution_count": 46,
   "metadata": {
    "id": "hPaMGXvJC8-4"
   },
   "outputs": [
    {
     "name": "stdout",
     "output_type": "stream",
     "text": [
      "Número de alunos desqualificados: 23\n",
      "\n",
      "Média de acertos dos desqualificados em História e Geografia:\n",
      "História     3.434783\n",
      "Geografia    3.217391\n",
      "dtype: float64\n",
      "\n",
      "Número de alunos aprovados para a segunda fase: 26\n"
     ]
    }
   ],
   "source": [
    "import pandas as pd\n",
    "\n",
    "# 1. Criar DataFrame com alunos desqualificados (zeraram em Matemática, Física ou Química)\n",
    "desqualificados = df_total[(df_total['Matemática'] == 0) | \n",
    "                           (df_total['Física'] == 0) | \n",
    "                           (df_total['Química'] == 0)]\n",
    "\n",
    "# 2. Quantos alunos foram desqualificados?\n",
    "num_desqualificados = desqualificados.shape[0]\n",
    "\n",
    "# 3. Calcular a média de acertos dos alunos desqualificados em História e Geografia\n",
    "media_hist_geo_desqualificados = desqualificados[['História', 'Geografia']].mean()\n",
    "\n",
    "# 4. Somar total de acertos de cada aluno\n",
    "df_total['total_acertos'] = df_total.sum(axis=1)\n",
    "\n",
    "# 5. Criar DataFrame com alunos que passaram para a segunda fase\n",
    "# Critérios: Não podem ter sido desqualificados e precisam ter nota maior que a nota de corte (45)\n",
    "nao_desqualificados = df_total[(df_total['Matemática'] > 0) & \n",
    "                               (df_total['Física'] > 0) & \n",
    "                               (df_total['Química'] > 0)]\n",
    "\n",
    "alunos_aprovados = nao_desqualificados[nao_desqualificados['total_acertos'] > 45]\n",
    "\n",
    "# Exibir os resultados\n",
    "print(f\"Número de alunos desqualificados: {num_desqualificados}\")\n",
    "print(\"\\nMédia de acertos dos desqualificados em História e Geografia:\")\n",
    "print(media_hist_geo_desqualificados)\n",
    "print(f\"\\nNúmero de alunos aprovados para a segunda fase: {alunos_aprovados.shape[0]}\")"
   ]
  },
  {
   "cell_type": "markdown",
   "metadata": {
    "id": "EGBUWpAHC8-5"
   },
   "source": [
    "## 3) Vacinações no Acre\n",
    "Vamos trabalhar agora com a base de vacinações no Acre. Para facilitar a sua vida, copiamos o link do arquivo na célula abaixo.\n",
    "\n",
    "1. Quantas vacinas estão registradas nessa base?  \n",
    "2. Quantos pacientes foram vacinados? (considere um paciente para cada valor único de ```paciente_id```)  \n",
    "3. Quantos pacientes únicos tomaram a primeira dose? OBS: Há um caractere especial neste campo. Receba os valores do campo com o método ```.unique()```.   \n",
    "4. Quantos pacientes com menos de 18 anos foram vacinados?  \n",
    "5. Quantos estabelecimentos aplicaram vacina no Acre?\n",
    "\n",
    "\n",
    "**OBS:** O portal do DATASUS pode apresentar instabilidades, retornando um erro na segunda célula abaixo. Por este motivo está disponível uma base estática, que se for baixada para o seu *working directory* pode ser lida com este comando: ```df = pd.read_csv('registros de vacinacao covid ACRE.csv', sep=';')```.\n",
    "\n",
    "**OBS2:** Para saber qual é o seu working directory, rode no jupyter: ```!pwd```."
   ]
  },
  {
   "cell_type": "code",
   "execution_count": 52,
   "metadata": {
    "id": "ET4r139hC8-5"
   },
   "outputs": [],
   "source": [
    "arquivo = 'https://s3.sa-east-1.amazonaws.com/ckan.saude.gov.br/SIPNI/COVID/uf/uf%3DAC/part-00000-04bba03c-8b15-4b9a-9181-a5d53454596a.c000.csv'"
   ]
  },
  {
   "cell_type": "code",
   "execution_count": 54,
   "metadata": {
    "id": "SC9YMWLSC8-6"
   },
   "outputs": [
    {
     "name": "stdout",
     "output_type": "stream",
     "text": [
      "Total de vacinas registradas: 390911\n"
     ]
    }
   ],
   "source": [
    "import pandas as pd\n",
    "\n",
    "# Carregar o arquivo CSV diretamente do link\n",
    "arquivo = 'https://s3.sa-east-1.amazonaws.com/ckan.saude.gov.br/SIPNI/COVID/uf/uf%3DAC/part-00000-04bba03c-8b15-4b9a-9181-a5d53454596a.c000.csv'\n",
    "df = pd.read_csv(arquivo, sep=';')\n",
    "\n",
    "# Verificando as primeiras linhas do DataFrame\n",
    "df.head()\n",
    "\n",
    "# Número de vacinas registradas\n",
    "num_vacinas = df.shape[0]\n",
    "print(f\"Total de vacinas registradas: {num_vacinas}\")"
   ]
  },
  {
   "cell_type": "code",
   "execution_count": 56,
   "metadata": {
    "id": "PMztY1RlC8-7"
   },
   "outputs": [
    {
     "name": "stdout",
     "output_type": "stream",
     "text": [
      "Total de pacientes vacinados: 318850\n"
     ]
    }
   ],
   "source": [
    "# 2) \n",
    "# Número de pacientes únicos vacinados\n",
    "num_pacientes = df['paciente_id'].nunique()\n",
    "print(f\"Total de pacientes vacinados: {num_pacientes}\")"
   ]
  },
  {
   "cell_type": "code",
   "execution_count": 58,
   "metadata": {
    "id": "V_wr--3JC8-7"
   },
   "outputs": [
    {
     "name": "stdout",
     "output_type": "stream",
     "text": [
      "Total de pacientes que tomaram a primeira dose: 144276\n"
     ]
    }
   ],
   "source": [
    "# 3)\n",
    "# Verificar os valores únicos no campo que indica a dose\n",
    "df['vacina_descricao_dose'].unique()\n",
    "\n",
    "# Filtrar pacientes que tomaram a primeira dose\n",
    "primeira_dose = df[df['vacina_descricao_dose'].str.contains('1ª', na=False)]\n",
    "\n",
    "# Número de pacientes únicos que tomaram a primeira dose\n",
    "num_primeira_dose = primeira_dose['paciente_id'].nunique()\n",
    "print(f\"Total de pacientes que tomaram a primeira dose: {num_primeira_dose}\")"
   ]
  },
  {
   "cell_type": "code",
   "execution_count": 60,
   "metadata": {
    "id": "S6ab9ExEC8-7"
   },
   "outputs": [
    {
     "name": "stdout",
     "output_type": "stream",
     "text": [
      "Total de pacientes com menos de 18 anos vacinados: 69726\n"
     ]
    }
   ],
   "source": [
    "# 4)\n",
    "# Filtrar pacientes com menos de 18 anos\n",
    "menores_18 = df[df['paciente_idade'] < 18]\n",
    "\n",
    "# Número de pacientes únicos menores de 18 anos\n",
    "num_menores_18 = menores_18['paciente_id'].nunique()\n",
    "print(f\"Total de pacientes com menos de 18 anos vacinados: {num_menores_18}\")"
   ]
  },
  {
   "cell_type": "code",
   "execution_count": 62,
   "metadata": {
    "id": "PVrY_-qlC8-8"
   },
   "outputs": [
    {
     "name": "stdout",
     "output_type": "stream",
     "text": [
      "Total de estabelecimentos que aplicaram vacina no Acre: 64\n"
     ]
    }
   ],
   "source": [
    "# 5)\n",
    "# Número de estabelecimentos únicos que aplicaram vacina\n",
    "num_estabelecimentos = df['estabelecimento_razaoSocial'].nunique()\n",
    "print(f\"Total de estabelecimentos que aplicaram vacina no Acre: {num_estabelecimentos}\")"
   ]
  },
  {
   "cell_type": "markdown",
   "metadata": {
    "id": "LH1LSYvGC8-8"
   },
   "source": [
    "## 4) Vacinação II\n",
    "Gere um *DataFrame* que contenha somente os estabelecimentos que aplicaram vcinas a menores de 18 anos. Nesse *DataFrame* devem conter somente os dados dos estabelecimentos, mais uma coluna sendo a quantidade de vacinas que o estabelecimento aplicou a menores de 18 anos.  \n",
    "  \n",
    "1. crie uma cópia do *DataFrame* original, contendo somente os registros de vacinas realizadas a menores de 18 anos.  \n",
    "2. crie uma lista das colunas desse *DataFrame* com o atributo de *DataFrame* **.columns()**  \n",
    "3. Nesse *DataFrame* faça uma contagem do campo ```vacina_categoria_nome```.\n",
    "3. a partir da lista de colunas, escolha somente aquelas que são referentes ao estabelecimento, faça uma lista com esses valores.  \n",
    "4. usando o método *.loc*, selecione somente essas variáveis  \n",
    "5. Aplique o método **.drop_duplicates** e crie uma lista com uma linha para cada estabelecimento, com os dados do estabelecimento  "
   ]
  },
  {
   "cell_type": "code",
   "execution_count": 64,
   "metadata": {
    "id": "3ojs12vUC8-8"
   },
   "outputs": [
    {
     "data": {
      "text/html": [
       "<div>\n",
       "<style scoped>\n",
       "    .dataframe tbody tr th:only-of-type {\n",
       "        vertical-align: middle;\n",
       "    }\n",
       "\n",
       "    .dataframe tbody tr th {\n",
       "        vertical-align: top;\n",
       "    }\n",
       "\n",
       "    .dataframe thead th {\n",
       "        text-align: right;\n",
       "    }\n",
       "</style>\n",
       "<table border=\"1\" class=\"dataframe\">\n",
       "  <thead>\n",
       "    <tr style=\"text-align: right;\">\n",
       "      <th></th>\n",
       "      <th>document_id</th>\n",
       "      <th>paciente_id</th>\n",
       "      <th>paciente_idade</th>\n",
       "      <th>paciente_dataNascimento</th>\n",
       "      <th>paciente_enumSexoBiologico</th>\n",
       "      <th>paciente_racaCor_codigo</th>\n",
       "      <th>paciente_racaCor_valor</th>\n",
       "      <th>paciente_endereco_coIbgeMunicipio</th>\n",
       "      <th>paciente_endereco_coPais</th>\n",
       "      <th>paciente_endereco_nmMunicipio</th>\n",
       "      <th>...</th>\n",
       "      <th>vacina_categoria_codigo</th>\n",
       "      <th>vacina_categoria_nome</th>\n",
       "      <th>vacina_lote</th>\n",
       "      <th>vacina_fabricante_nome</th>\n",
       "      <th>vacina_fabricante_referencia</th>\n",
       "      <th>vacina_dataAplicacao</th>\n",
       "      <th>vacina_descricao_dose</th>\n",
       "      <th>vacina_codigo</th>\n",
       "      <th>vacina_nome</th>\n",
       "      <th>sistema_origem</th>\n",
       "    </tr>\n",
       "  </thead>\n",
       "  <tbody>\n",
       "    <tr>\n",
       "      <th>8</th>\n",
       "      <td>3274f24d-1591-4140-a8fa-190936d23a9b-i0b0</td>\n",
       "      <td>0632f0ea66d18401d3a4c7d82a91173178ab5a2730ce6a...</td>\n",
       "      <td>11</td>\n",
       "      <td>2011-06-26</td>\n",
       "      <td>F</td>\n",
       "      <td>3</td>\n",
       "      <td>PARDA</td>\n",
       "      <td>120020.0</td>\n",
       "      <td>10.0</td>\n",
       "      <td>CRUZEIRO DO SUL</td>\n",
       "      <td>...</td>\n",
       "      <td>NaN</td>\n",
       "      <td>NaN</td>\n",
       "      <td>210520</td>\n",
       "      <td>SINOVAC/BUTANTAN</td>\n",
       "      <td>29501</td>\n",
       "      <td>2022-08-24</td>\n",
       "      <td>1ª Dose</td>\n",
       "      <td>86</td>\n",
       "      <td>COVID-19 SINOVAC/BUTANTAN - CORONAVAC</td>\n",
       "      <td>Novo PNI</td>\n",
       "    </tr>\n",
       "    <tr>\n",
       "      <th>12</th>\n",
       "      <td>ea9e2f3d-e19c-4d77-b7ef-7b0fbe361729-i0b0</td>\n",
       "      <td>28846f11a1561850581aa34a0587e14a355445324f4de4...</td>\n",
       "      <td>10</td>\n",
       "      <td>2011-08-14</td>\n",
       "      <td>M</td>\n",
       "      <td>3</td>\n",
       "      <td>PARDA</td>\n",
       "      <td>120030.0</td>\n",
       "      <td>10.0</td>\n",
       "      <td>FEIJO</td>\n",
       "      <td>...</td>\n",
       "      <td>NaN</td>\n",
       "      <td>NaN</td>\n",
       "      <td>FN5988</td>\n",
       "      <td>PFIZER - PEDI?TRICA</td>\n",
       "      <td>28290</td>\n",
       "      <td>2022-03-17</td>\n",
       "      <td>1ª Dose</td>\n",
       "      <td>99</td>\n",
       "      <td>COVID-19 PEDIÁTRICA - PFIZER COMIRNATY</td>\n",
       "      <td>Novo PNI</td>\n",
       "    </tr>\n",
       "    <tr>\n",
       "      <th>19</th>\n",
       "      <td>ddbe8e75-ac1e-40b7-ad55-ead506189efd-i0b0</td>\n",
       "      <td>4a502fc943b8e62deca3f6cd1be3885f7b0d8a2ed88796...</td>\n",
       "      <td>14</td>\n",
       "      <td>2007-03-13</td>\n",
       "      <td>F</td>\n",
       "      <td>3</td>\n",
       "      <td>PARDA</td>\n",
       "      <td>120010.0</td>\n",
       "      <td>10.0</td>\n",
       "      <td>BRASILEIA</td>\n",
       "      <td>...</td>\n",
       "      <td>2.0</td>\n",
       "      <td>Faixa Etária</td>\n",
       "      <td>FF5107</td>\n",
       "      <td>PFIZER</td>\n",
       "      <td>Organization/00394544000851</td>\n",
       "      <td>2021-09-30</td>\n",
       "      <td>1ª Dose</td>\n",
       "      <td>87</td>\n",
       "      <td>COVID-19 PFIZER - COMIRNATY</td>\n",
       "      <td>Novo PNI</td>\n",
       "    </tr>\n",
       "    <tr>\n",
       "      <th>30</th>\n",
       "      <td>60826050-a458-48c6-bc03-9f75a76445eb-i0b0</td>\n",
       "      <td>de7cd2ad4cc949863e2f653fa0f4140e79b2794ca54466...</td>\n",
       "      <td>10</td>\n",
       "      <td>2011-07-08</td>\n",
       "      <td>M</td>\n",
       "      <td>3</td>\n",
       "      <td>PARDA</td>\n",
       "      <td>120040.0</td>\n",
       "      <td>10.0</td>\n",
       "      <td>RIO BRANCO</td>\n",
       "      <td>...</td>\n",
       "      <td>NaN</td>\n",
       "      <td>NaN</td>\n",
       "      <td>FP8290</td>\n",
       "      <td>PFIZER - PEDI?TRICA</td>\n",
       "      <td>28290</td>\n",
       "      <td>2022-03-24</td>\n",
       "      <td>1ª Dose</td>\n",
       "      <td>99</td>\n",
       "      <td>COVID-19 PEDIÁTRICA - PFIZER COMIRNATY</td>\n",
       "      <td>Novo PNI</td>\n",
       "    </tr>\n",
       "    <tr>\n",
       "      <th>34</th>\n",
       "      <td>0e034f62-83b9-4dea-ac5e-e3da277e49e4-i0b0</td>\n",
       "      <td>6deddf138a8750e47363a1dd3afe10b149b85a834218a9...</td>\n",
       "      <td>15</td>\n",
       "      <td>2005-12-21</td>\n",
       "      <td>M</td>\n",
       "      <td>3</td>\n",
       "      <td>PARDA</td>\n",
       "      <td>120020.0</td>\n",
       "      <td>10.0</td>\n",
       "      <td>CRUZEIRO DO SUL</td>\n",
       "      <td>...</td>\n",
       "      <td>114.0</td>\n",
       "      <td>Outros</td>\n",
       "      <td>FA9096</td>\n",
       "      <td>PFIZER</td>\n",
       "      <td>Organization/00394544000851</td>\n",
       "      <td>2021-08-04</td>\n",
       "      <td>1ª Dose</td>\n",
       "      <td>87</td>\n",
       "      <td>COVID-19 PFIZER - COMIRNATY</td>\n",
       "      <td>Novo PNI</td>\n",
       "    </tr>\n",
       "  </tbody>\n",
       "</table>\n",
       "<p>5 rows × 32 columns</p>\n",
       "</div>"
      ],
      "text/plain": [
       "                                  document_id  \\\n",
       "8   3274f24d-1591-4140-a8fa-190936d23a9b-i0b0   \n",
       "12  ea9e2f3d-e19c-4d77-b7ef-7b0fbe361729-i0b0   \n",
       "19  ddbe8e75-ac1e-40b7-ad55-ead506189efd-i0b0   \n",
       "30  60826050-a458-48c6-bc03-9f75a76445eb-i0b0   \n",
       "34  0e034f62-83b9-4dea-ac5e-e3da277e49e4-i0b0   \n",
       "\n",
       "                                          paciente_id  paciente_idade  \\\n",
       "8   0632f0ea66d18401d3a4c7d82a91173178ab5a2730ce6a...              11   \n",
       "12  28846f11a1561850581aa34a0587e14a355445324f4de4...              10   \n",
       "19  4a502fc943b8e62deca3f6cd1be3885f7b0d8a2ed88796...              14   \n",
       "30  de7cd2ad4cc949863e2f653fa0f4140e79b2794ca54466...              10   \n",
       "34  6deddf138a8750e47363a1dd3afe10b149b85a834218a9...              15   \n",
       "\n",
       "   paciente_dataNascimento paciente_enumSexoBiologico  \\\n",
       "8               2011-06-26                          F   \n",
       "12              2011-08-14                          M   \n",
       "19              2007-03-13                          F   \n",
       "30              2011-07-08                          M   \n",
       "34              2005-12-21                          M   \n",
       "\n",
       "    paciente_racaCor_codigo paciente_racaCor_valor  \\\n",
       "8                         3                  PARDA   \n",
       "12                        3                  PARDA   \n",
       "19                        3                  PARDA   \n",
       "30                        3                  PARDA   \n",
       "34                        3                  PARDA   \n",
       "\n",
       "    paciente_endereco_coIbgeMunicipio  paciente_endereco_coPais  \\\n",
       "8                            120020.0                      10.0   \n",
       "12                           120030.0                      10.0   \n",
       "19                           120010.0                      10.0   \n",
       "30                           120040.0                      10.0   \n",
       "34                           120020.0                      10.0   \n",
       "\n",
       "   paciente_endereco_nmMunicipio  ... vacina_categoria_codigo  \\\n",
       "8                CRUZEIRO DO SUL  ...                     NaN   \n",
       "12                         FEIJO  ...                     NaN   \n",
       "19                     BRASILEIA  ...                     2.0   \n",
       "30                    RIO BRANCO  ...                     NaN   \n",
       "34               CRUZEIRO DO SUL  ...                   114.0   \n",
       "\n",
       "   vacina_categoria_nome  vacina_lote vacina_fabricante_nome  \\\n",
       "8                    NaN       210520       SINOVAC/BUTANTAN   \n",
       "12                   NaN       FN5988    PFIZER - PEDI?TRICA   \n",
       "19          Faixa Etária       FF5107                 PFIZER   \n",
       "30                   NaN       FP8290    PFIZER - PEDI?TRICA   \n",
       "34                Outros       FA9096                 PFIZER   \n",
       "\n",
       "    vacina_fabricante_referencia vacina_dataAplicacao vacina_descricao_dose  \\\n",
       "8                          29501           2022-08-24               1ª Dose   \n",
       "12                         28290           2022-03-17               1ª Dose   \n",
       "19   Organization/00394544000851           2021-09-30               1ª Dose   \n",
       "30                         28290           2022-03-24               1ª Dose   \n",
       "34   Organization/00394544000851           2021-08-04               1ª Dose   \n",
       "\n",
       "    vacina_codigo                             vacina_nome sistema_origem  \n",
       "8              86   COVID-19 SINOVAC/BUTANTAN - CORONAVAC       Novo PNI  \n",
       "12             99  COVID-19 PEDIÁTRICA - PFIZER COMIRNATY       Novo PNI  \n",
       "19             87             COVID-19 PFIZER - COMIRNATY       Novo PNI  \n",
       "30             99  COVID-19 PEDIÁTRICA - PFIZER COMIRNATY       Novo PNI  \n",
       "34             87             COVID-19 PFIZER - COMIRNATY       Novo PNI  \n",
       "\n",
       "[5 rows x 32 columns]"
      ]
     },
     "execution_count": 64,
     "metadata": {},
     "output_type": "execute_result"
    }
   ],
   "source": [
    "# 1)\n",
    "# Criando uma cópia do DataFrame original com vacinas aplicadas a menores de 18 anos\n",
    "df_menores_18 = df[df['paciente_idade'] < 18].copy()\n",
    "\n",
    "# Verificando as primeiras linhas\n",
    "df_menores_18.head()"
   ]
  },
  {
   "cell_type": "code",
   "execution_count": 66,
   "metadata": {
    "id": "sLyevPRBC8-8"
   },
   "outputs": [
    {
     "name": "stdout",
     "output_type": "stream",
     "text": [
      "['document_id', 'paciente_id', 'paciente_idade', 'paciente_dataNascimento', 'paciente_enumSexoBiologico', 'paciente_racaCor_codigo', 'paciente_racaCor_valor', 'paciente_endereco_coIbgeMunicipio', 'paciente_endereco_coPais', 'paciente_endereco_nmMunicipio', 'paciente_endereco_nmPais', 'paciente_endereco_uf', 'paciente_endereco_cep', 'paciente_nacionalidade_enumNacionalidade', 'estabelecimento_valor', 'estabelecimento_razaoSocial', 'estalecimento_noFantasia', 'estabelecimento_municipio_codigo', 'estabelecimento_municipio_nome', 'estabelecimento_uf', 'vacina_grupoAtendimento_codigo', 'vacina_grupoAtendimento_nome', 'vacina_categoria_codigo', 'vacina_categoria_nome', 'vacina_lote', 'vacina_fabricante_nome', 'vacina_fabricante_referencia', 'vacina_dataAplicacao', 'vacina_descricao_dose', 'vacina_codigo', 'vacina_nome', 'sistema_origem']\n"
     ]
    }
   ],
   "source": [
    "# 2)\n",
    "# Criando uma lista com os nomes das colunas do DataFrame\n",
    "colunas = df_menores_18.columns.to_list()\n",
    "\n",
    "# Exibindo as colunas\n",
    "print(colunas)"
   ]
  },
  {
   "cell_type": "code",
   "execution_count": 68,
   "metadata": {
    "id": "lZAW-Dp8C8-8"
   },
   "outputs": [
    {
     "name": "stdout",
     "output_type": "stream",
     "text": [
      "vacina_categoria_nome\n",
      "Faixa Etária                                      49015\n",
      "Povos Indígenas                                    4934\n",
      "Outros                                             3755\n",
      "Povos e Comunidades Tradicionais                    875\n",
      "Trabalhadores de Saúde                              264\n",
      "Comorbidades                                         58\n",
      "População Privada de Liberdade                       53\n",
      "Gestantes                                            47\n",
      "Trabalhadores da Educação                            14\n",
      "Trabalhadores de Transporte                          13\n",
      "Pessoas com Deficiência                              11\n",
      "Pessoas Institucionalizadas                           3\n",
      "Pessoas de 60 anos ou mais institucionalizadas        1\n",
      "Puérperas                                             1\n",
      "Name: count, dtype: int64\n"
     ]
    }
   ],
   "source": [
    "# 3)\n",
    "# Contagem das categorias de vacina aplicadas a menores de 18 anos\n",
    "contagem_vacinas_categoria = df_menores_18['vacina_categoria_nome'].value_counts()\n",
    "\n",
    "# Exibindo a contagem\n",
    "print(contagem_vacinas_categoria)"
   ]
  },
  {
   "cell_type": "code",
   "execution_count": 70,
   "metadata": {
    "id": "xxYsxrxAC8-8"
   },
   "outputs": [
    {
     "name": "stdout",
     "output_type": "stream",
     "text": [
      "['estabelecimento_razaoSocial', 'estabelecimento_valor', 'estabelecimento_municipio_nome', 'estabelecimento_uf']\n"
     ]
    }
   ],
   "source": [
    "# 4)\n",
    "# Lista de colunas relacionadas aos estabelecimentos\n",
    "colunas_estabelecimento = ['estabelecimento_razaoSocial', \n",
    "                           'estabelecimento_valor', \n",
    "                           'estabelecimento_municipio_nome', \n",
    "                           'estabelecimento_uf']\n",
    "\n",
    "# Exibindo as colunas de estabelecimento\n",
    "print(colunas_estabelecimento)"
   ]
  },
  {
   "cell_type": "code",
   "execution_count": 72,
   "metadata": {
    "id": "vaX2x_0rC8-8"
   },
   "outputs": [
    {
     "data": {
      "text/html": [
       "<div>\n",
       "<style scoped>\n",
       "    .dataframe tbody tr th:only-of-type {\n",
       "        vertical-align: middle;\n",
       "    }\n",
       "\n",
       "    .dataframe tbody tr th {\n",
       "        vertical-align: top;\n",
       "    }\n",
       "\n",
       "    .dataframe thead th {\n",
       "        text-align: right;\n",
       "    }\n",
       "</style>\n",
       "<table border=\"1\" class=\"dataframe\">\n",
       "  <thead>\n",
       "    <tr style=\"text-align: right;\">\n",
       "      <th></th>\n",
       "      <th>estabelecimento_razaoSocial</th>\n",
       "      <th>estabelecimento_valor</th>\n",
       "      <th>estabelecimento_municipio_nome</th>\n",
       "      <th>estabelecimento_uf</th>\n",
       "    </tr>\n",
       "  </thead>\n",
       "  <tbody>\n",
       "    <tr>\n",
       "      <th>8</th>\n",
       "      <td>PREFEITURA MUNICIPAL DE SAUDE</td>\n",
       "      <td>7247435</td>\n",
       "      <td>CRUZEIRO DO SUL</td>\n",
       "      <td>AC</td>\n",
       "    </tr>\n",
       "    <tr>\n",
       "      <th>12</th>\n",
       "      <td>PREFEITURA MUNICIPAL DE FEIJO</td>\n",
       "      <td>924490</td>\n",
       "      <td>FEIJO</td>\n",
       "      <td>AC</td>\n",
       "    </tr>\n",
       "    <tr>\n",
       "      <th>19</th>\n",
       "      <td>PREFEITURA MUNICIPAL DE BRASILEIA</td>\n",
       "      <td>2001349</td>\n",
       "      <td>BRASILEIA</td>\n",
       "      <td>AC</td>\n",
       "    </tr>\n",
       "    <tr>\n",
       "      <th>30</th>\n",
       "      <td>PREFEITURA MUNICIPAL DE RIO BRANCO</td>\n",
       "      <td>6917291</td>\n",
       "      <td>RIO BRANCO</td>\n",
       "      <td>AC</td>\n",
       "    </tr>\n",
       "    <tr>\n",
       "      <th>34</th>\n",
       "      <td>SECRETARIA DE ESTADO DE SAUDE</td>\n",
       "      <td>3959082</td>\n",
       "      <td>CRUZEIRO DO SUL</td>\n",
       "      <td>AC</td>\n",
       "    </tr>\n",
       "  </tbody>\n",
       "</table>\n",
       "</div>"
      ],
      "text/plain": [
       "           estabelecimento_razaoSocial  estabelecimento_valor  \\\n",
       "8        PREFEITURA MUNICIPAL DE SAUDE                7247435   \n",
       "12       PREFEITURA MUNICIPAL DE FEIJO                 924490   \n",
       "19   PREFEITURA MUNICIPAL DE BRASILEIA                2001349   \n",
       "30  PREFEITURA MUNICIPAL DE RIO BRANCO                6917291   \n",
       "34       SECRETARIA DE ESTADO DE SAUDE                3959082   \n",
       "\n",
       "   estabelecimento_municipio_nome estabelecimento_uf  \n",
       "8                 CRUZEIRO DO SUL                 AC  \n",
       "12                          FEIJO                 AC  \n",
       "19                      BRASILEIA                 AC  \n",
       "30                     RIO BRANCO                 AC  \n",
       "34                CRUZEIRO DO SUL                 AC  "
      ]
     },
     "execution_count": 72,
     "metadata": {},
     "output_type": "execute_result"
    }
   ],
   "source": [
    "# 5)\n",
    "# Selecionando as colunas relacionadas aos estabelecimentos\n",
    "df_estabelecimentos_menores_18 = df_menores_18.loc[:, colunas_estabelecimento]\n",
    "\n",
    "# Exibindo as primeiras linhas do DataFrame\n",
    "df_estabelecimentos_menores_18.head()"
   ]
  },
  {
   "cell_type": "code",
   "execution_count": null,
   "metadata": {},
   "outputs": [],
   "source": []
  }
 ],
 "metadata": {
  "colab": {
   "provenance": []
  },
  "kernelspec": {
   "display_name": "Python 3 (ipykernel)",
   "language": "python",
   "name": "python3"
  },
  "language_info": {
   "codemirror_mode": {
    "name": "ipython",
    "version": 3
   },
   "file_extension": ".py",
   "mimetype": "text/x-python",
   "name": "python",
   "nbconvert_exporter": "python",
   "pygments_lexer": "ipython3",
   "version": "3.12.4"
  },
  "toc": {
   "base_numbering": 1,
   "nav_menu": {},
   "number_sections": false,
   "sideBar": true,
   "skip_h1_title": true,
   "title_cell": "Índice",
   "title_sidebar": "Conteúdo",
   "toc_cell": false,
   "toc_position": {},
   "toc_section_display": true,
   "toc_window_display": false
  },
  "varInspector": {
   "cols": {
    "lenName": 16,
    "lenType": 16,
    "lenVar": 40
   },
   "kernels_config": {
    "python": {
     "delete_cmd_postfix": "",
     "delete_cmd_prefix": "del ",
     "library": "var_list.py",
     "varRefreshCmd": "print(var_dic_list())"
    },
    "r": {
     "delete_cmd_postfix": ") ",
     "delete_cmd_prefix": "rm(",
     "library": "var_list.r",
     "varRefreshCmd": "cat(var_dic_list()) "
    }
   },
   "types_to_exclude": [
    "module",
    "function",
    "builtin_function_or_method",
    "instance",
    "_Feature"
   ],
   "window_display": false
  }
 },
 "nbformat": 4,
 "nbformat_minor": 4
}
