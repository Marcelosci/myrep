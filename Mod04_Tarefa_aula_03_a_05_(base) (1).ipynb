{
 "cells": [
  {
   "cell_type": "markdown",
   "metadata": {
    "id": "njUvbhQmC8-t"
   },
   "source": [
    "## Exercício 1: Vestibular\n",
    "\n",
    "Considere que a os dados gerados na célula abaixo contêm o número de acertos de 100 alunos em um vestibular para um curso de exatas, divididas pelos respectivos assuntos. Considere que cada assunto possui um número de questões conforme a tabela abaixo:\n",
    "\n",
    "| assunto | número de questões |\n",
    "|:---:|:---:|\n",
    "| Matemática | 24 |\n",
    "| Português | 18 |\n",
    "| Geografia | 8 |\n",
    "| Inglês | 8 |\n",
    "| História | 8 |\n",
    "| Física | 12 |\n",
    "| Química | 12 |\n",
    "\n",
    "Usando os comandos de operações com DataFrames que você aprendeu na Aula 03, calcule:\n",
    "\n",
    "1. (operações com escalar) Calcule o percentual de acerto dos alunos por assunto.  \n",
    "2. (operações entre *DataFrames) Calcule o total de acertos de cada aluno.  \n",
    "3. Calcule o porcentual geral de cada aluno.  \n",
    "4. Suponha que a nota de corte para a segunda fase seja 45. Quantos alunos tiveram nota maior que 45?  "
   ]
  },
  {
   "cell_type": "code",
   "execution_count": 48,
   "metadata": {
    "id": "Ll6TadxCC8-y"
   },
   "outputs": [],
   "source": [
    "import pandas as pd\n",
    "import numpy as np\n",
    "\n",
    "# Gerando os dados fornecidos\n",
    "np.random.seed(42)\n",
    "\n",
    "df_mat = pd.DataFrame(np.random.randint(24, size=(100, 1)), columns=['Matemática'])\n",
    "df_por = pd.DataFrame(np.random.randint(18, size=(100, 1)), columns=['Português'])\n",
    "df_geo = pd.DataFrame(np.random.randint(8, size=(100, 1)), columns=['Geografia'])\n",
    "df_ing = pd.DataFrame(np.random.randint(8, size=(100, 1)), columns=['Inglês'])\n",
    "df_his = pd.DataFrame(np.random.randint(8, size=(100, 1)), columns=['História'])\n",
    "df_fis = pd.DataFrame(np.random.randint(12, size=(100, 1)), columns=['Física'])\n",
    "df_qui = pd.DataFrame(np.random.randint(12, size=(100, 1)), columns=['Química'])"
   ]
  },
  {
   "cell_type": "code",
   "execution_count": 50,
   "metadata": {},
   "outputs": [],
   "source": [
    "# Concatenando todos os DataFrames para criar o DataFrame final\n",
    "df_total = pd.concat([df_mat, df_por, df_geo, df_ing, df_his, df_fis, df_qui], axis=1)\n",
    "\n",
    "# Criando um dicionário com o número de questões por assunto\n",
    "num_questoes = {\n",
    "    'Matemática': 24,\n",
    "    'Português': 18,\n",
    "    'Geografia': 8,\n",
    "    'Inglês': 8,\n",
    "    'História': 8,\n",
    "    'Física': 12,\n",
    "    'Química': 12\n",
    "}"
   ]
  },
  {
   "cell_type": "code",
   "execution_count": 37,
   "metadata": {
    "id": "JVmLXiC2C8-0"
   },
   "outputs": [
    {
     "name": "stdout",
     "output_type": "stream",
     "text": [
      "Percentual de acertos por assunto (primeiras 5 linhas):\n",
      "   Matemática  Português  Geografia  Inglês  História     Física    Química\n",
      "0   25.000000  38.888889       87.5    37.5      12.5  66.666667  25.000000\n",
      "1   79.166667  55.555556        0.0     0.0       0.0  91.666667  66.666667\n",
      "2   58.333333  88.888889        0.0    62.5      87.5  33.333333  33.333333\n",
      "3   41.666667  38.888889       37.5    50.0       0.0   0.000000  66.666667\n",
      "4   29.166667  11.111111       25.0    87.5       0.0  75.000000  25.000000\n"
     ]
    }
   ],
   "source": [
    "# 1. Calcular o percentual de acerto dos alunos por assunto\n",
    "percentual_acertos = df_total.div(num_questoes).mul(100)\n",
    "print(\"Percentual de acertos por assunto (primeiras 5 linhas):\")\n",
    "print(percentual_acertos.head())"
   ]
  },
  {
   "cell_type": "code",
   "execution_count": 38,
   "metadata": {
    "id": "JbTwCyNHC8-1"
   },
   "outputs": [
    {
     "name": "stdout",
     "output_type": "stream",
     "text": [
      "\n",
      "Total de acertos de cada aluno (primeiras 5 linhas):\n",
      "0    35\n",
      "1    48\n",
      "2    50\n",
      "3    32\n",
      "4    30\n",
      "dtype: int64\n"
     ]
    }
   ],
   "source": [
    "# 2. Calcular o total de acertos de cada aluno\n",
    "total_acertos = df_total.sum(axis=1)\n",
    "print(\"\\nTotal de acertos de cada aluno (primeiras 5 linhas):\")\n",
    "print(total_acertos.head())"
   ]
  },
  {
   "cell_type": "code",
   "execution_count": 40,
   "metadata": {
    "id": "c2L8dJkVC8-3"
   },
   "outputs": [
    {
     "name": "stdout",
     "output_type": "stream",
     "text": [
      "\n",
      "Percentual geral de cada aluno (primeiras 5 linhas):\n",
      "0    38.888889\n",
      "1    53.333333\n",
      "2    55.555556\n",
      "3    35.555556\n",
      "4    33.333333\n",
      "dtype: float64\n"
     ]
    }
   ],
   "source": [
    "# 3. Calcular o percentual geral de cada aluno\n",
    "total_questoes = sum(num_questoes.values())\n",
    "percentual_geral = total_acertos / total_questoes * 100\n",
    "print(\"\\nPercentual geral de cada aluno (primeiras 5 linhas):\")\n",
    "print(percentual_geral.head())"
   ]
  },
  {
   "cell_type": "code",
   "execution_count": 42,
   "metadata": {
    "id": "PZTZ7DFzC8-3"
   },
   "outputs": [
    {
     "name": "stdout",
     "output_type": "stream",
     "text": [
      "\n",
      "Número de alunos com nota maior que 45: 31\n"
     ]
    }
   ],
   "source": [
    "# 4. Quantos alunos tiveram nota maior que 45?\n",
    "nota_corte = 45\n",
    "alunos_acima_corte = total_acertos[total_acertos > nota_corte].count()\n",
    "print(f\"\\nNúmero de alunos com nota maior que {nota_corte}: {alunos_acima_corte}\")"
   ]
  },
  {
   "cell_type": "markdown",
   "metadata": {
    "id": "Hlfl75XXC8-4"
   },
   "source": [
    "## 2) Vestibular II\n",
    "\n",
    "Ainda sobre o mesmo banco de dados:\n",
    "\n",
    "1. Neste vestibular, quem 'zera' em matemática, física ou química está desqualificado. Monte um novo *DataFrame* com os alunos desqualificados por este critério.\n",
    "2. Quantos são esses alunos?\n",
    "3. Qual a média desses alunos em história e geografia?\n",
    "4. Monte um *DataFrame* com os alunos que passaram para a segunda fase. Repare que estes alunos não podem ter sido desqualificados."
   ]
  },
  {
   "cell_type": "code",
   "execution_count": 46,
   "metadata": {
    "id": "hPaMGXvJC8-4"
   },
   "outputs": [
    {
     "name": "stdout",
     "output_type": "stream",
     "text": [
      "Número de alunos desqualificados: 23\n",
      "\n",
      "Média de acertos dos desqualificados em História e Geografia:\n",
      "História     3.434783\n",
      "Geografia    3.217391\n",
      "dtype: float64\n",
      "\n",
      "Número de alunos aprovados para a segunda fase: 26\n"
     ]
    }
   ],
   "source": [
    "import pandas as pd\n",
    "\n",
    "# 1. Criar DataFrame com alunos desqualificados (zeraram em Matemática, Física ou Química)\n",
    "desqualificados = df_total[(df_total['Matemática'] == 0) | \n",
    "                           (df_total['Física'] == 0) | \n",
    "                           (df_total['Química'] == 0)]\n",
    "\n",
    "# 2. Quantos alunos foram desqualificados?\n",
    "num_desqualificados = desqualificados.shape[0]\n",
    "\n",
    "# 3. Calcular a média de acertos dos alunos desqualificados em História e Geografia\n",
    "media_hist_geo_desqualificados = desqualificados[['História', 'Geografia']].mean()\n",
    "\n",
    "# 4. Somar total de acertos de cada aluno\n",
    "df_total['total_acertos'] = df_total.sum(axis=1)\n",
    "\n",
    "# 5. Criar DataFrame com alunos que passaram para a segunda fase\n",
    "# Critérios: Não podem ter sido desqualificados e precisam ter nota maior que a nota de corte (45)\n",
    "nao_desqualificados = df_total[(df_total['Matemática'] > 0) & \n",
    "                               (df_total['Física'] > 0) & \n",
    "                               (df_total['Química'] > 0)]\n",
    "\n",
    "alunos_aprovados = nao_desqualificados[nao_desqualificados['total_acertos'] > 45]\n",
    "\n",
    "# Exibir os resultados\n",
    "print(f\"Número de alunos desqualificados: {num_desqualificados}\")\n",
    "print(\"\\nMédia de acertos dos desqualificados em História e Geografia:\")\n",
    "print(media_hist_geo_desqualificados)\n",
    "print(f\"\\nNúmero de alunos aprovados para a segunda fase: {alunos_aprovados.shape[0]}\")"
   ]
  },
  {
   "cell_type": "markdown",
   "metadata": {
    "id": "EGBUWpAHC8-5"
   },
   "source": [
    "## 3) Vacinações no Acre\n",
    "Vamos trabalhar agora com a base de vacinações no Acre. Para facilitar a sua vida, copiamos o link do arquivo na célula abaixo.\n",
    "\n",
    "1. Quantas vacinas estão registradas nessa base?  \n",
    "2. Quantos pacientes foram vacinados? (considere um paciente para cada valor único de ```paciente_id```)  \n",
    "3. Quantos pacientes únicos tomaram a primeira dose? OBS: Há um caractere especial neste campo. Receba os valores do campo com o método ```.unique()```.   \n",
    "4. Quantos pacientes com menos de 18 anos foram vacinados?  \n",
    "5. Quantos estabelecimentos aplicaram vacina no Acre?\n",
    "\n",
    "\n",
    "**OBS:** O portal do DATASUS pode apresentar instabilidades, retornando um erro na segunda célula abaixo. Por este motivo está disponível uma base estática, que se for baixada para o seu *working directory* pode ser lida com este comando: ```df = pd.read_csv('registros de vacinacao covid ACRE.csv', sep=';')```.\n",
    "\n",
    "**OBS2:** Para saber qual é o seu working directory, rode no jupyter: ```!pwd```."
   ]
  },
  {
   "cell_type": "code",
   "execution_count": 52,
   "metadata": {
    "id": "ET4r139hC8-5"
   },
   "outputs": [],
   "source": [
    "arquivo = 'https://s3.sa-east-1.amazonaws.com/ckan.saude.gov.br/SIPNI/COVID/uf/uf%3DAC/part-00000-04bba03c-8b15-4b9a-9181-a5d53454596a.c000.csv'"
   ]
  },
  {
   "cell_type": "code",
   "execution_count": null,
   "metadata": {
    "id": "SC9YMWLSC8-6"
   },
   "outputs": [],
   "source": [
    "import pandas as pd\n",
    "\n",
    "# Carregar o arquivo CSV diretamente do link\n",
    "arquivo = 'https://s3.sa-east-1.amazonaws.com/ckan.saude.gov.br/SIPNI/COVID/uf/uf%3DAC/part-00000-04bba03c-8b15-4b9a-9181-a5d53454596a.c000.csv'\n",
    "df = pd.read_csv(arquivo, sep=';')\n",
    "\n",
    "# Verificando as primeiras linhas do DataFrame\n",
    "df.head()\n",
    "\n",
    "# Número de vacinas registradas\n",
    "num_vacinas = df.shape[0]\n",
    "print(f\"Total de vacinas registradas: {num_vacinas}\")"
   ]
  },
  {
   "cell_type": "code",
   "execution_count": null,
   "metadata": {
    "id": "PMztY1RlC8-7"
   },
   "outputs": [],
   "source": [
    "# 2) \n",
    "# Número de pacientes únicos vacinados\n",
    "num_pacientes = df['paciente_id'].nunique()\n",
    "print(f\"Total de pacientes vacinados: {num_pacientes}\")"
   ]
  },
  {
   "cell_type": "code",
   "execution_count": null,
   "metadata": {
    "id": "V_wr--3JC8-7"
   },
   "outputs": [],
   "source": [
    "# 3)\n",
    "# Verificar os valores únicos no campo que indica a dose\n",
    "df['vacina_descricao_dose'].unique()\n",
    "\n",
    "# Filtrar pacientes que tomaram a primeira dose\n",
    "primeira_dose = df[df['vacina_descricao_dose'].str.contains('1ª', na=False)]\n",
    "\n",
    "# Número de pacientes únicos que tomaram a primeira dose\n",
    "num_primeira_dose = primeira_dose['paciente_id'].nunique()\n",
    "print(f\"Total de pacientes que tomaram a primeira dose: {num_primeira_dose}\")"
   ]
  },
  {
   "cell_type": "code",
   "execution_count": null,
   "metadata": {
    "id": "S6ab9ExEC8-7"
   },
   "outputs": [],
   "source": [
    "# 4)\n",
    "# Filtrar pacientes com menos de 18 anos\n",
    "menores_18 = df[df['paciente_idade'] < 18]\n",
    "\n",
    "# Número de pacientes únicos menores de 18 anos\n",
    "num_menores_18 = menores_18['paciente_id'].nunique()\n",
    "print(f\"Total de pacientes com menos de 18 anos vacinados: {num_menores_18}\")"
   ]
  },
  {
   "cell_type": "code",
   "execution_count": null,
   "metadata": {
    "id": "PVrY_-qlC8-8"
   },
   "outputs": [],
   "source": [
    "# 5)\n",
    "# Número de estabelecimentos únicos que aplicaram vacina\n",
    "num_estabelecimentos = df['estabelecimento_razaoSocial'].nunique()\n",
    "print(f\"Total de estabelecimentos que aplicaram vacina no Acre: {num_estabelecimentos}\")"
   ]
  },
  {
   "cell_type": "markdown",
   "metadata": {
    "id": "LH1LSYvGC8-8"
   },
   "source": [
    "## 4) Vacinação II\n",
    "Gere um *DataFrame* que contenha somente os estabelecimentos que aplicaram vcinas a menores de 18 anos. Nesse *DataFrame* devem conter somente os dados dos estabelecimentos, mais uma coluna sendo a quantidade de vacinas que o estabelecimento aplicou a menores de 18 anos.  \n",
    "  \n",
    "1. crie uma cópia do *DataFrame* original, contendo somente os registros de vacinas realizadas a menores de 18 anos.  \n",
    "2. crie uma lista das colunas desse *DataFrame* com o atributo de *DataFrame* **.columns()**  \n",
    "3. Nesse *DataFrame* faça uma contagem do campo ```vacina_categoria_nome```.\n",
    "3. a partir da lista de colunas, escolha somente aquelas que são referentes ao estabelecimento, faça uma lista com esses valores.  \n",
    "4. usando o método *.loc*, selecione somente essas variáveis  \n",
    "5. Aplique o método **.drop_duplicates** e crie uma lista com uma linha para cada estabelecimento, com os dados do estabelecimento  "
   ]
  },
  {
   "cell_type": "code",
   "execution_count": null,
   "metadata": {
    "id": "3ojs12vUC8-8"
   },
   "outputs": [],
   "source": [
    "# 1)\n",
    "# Criando uma cópia do DataFrame original com vacinas aplicadas a menores de 18 anos\n",
    "df_menores_18 = df[df['paciente_idade'] < 18].copy()\n",
    "\n",
    "# Verificando as primeiras linhas\n",
    "df_menores_18.head()"
   ]
  },
  {
   "cell_type": "code",
   "execution_count": null,
   "metadata": {
    "id": "sLyevPRBC8-8"
   },
   "outputs": [],
   "source": [
    "# 2)\n",
    "# Criando uma lista com os nomes das colunas do DataFrame\n",
    "colunas = df_menores_18.columns.to_list()\n",
    "\n",
    "# Exibindo as colunas\n",
    "print(colunas)"
   ]
  },
  {
   "cell_type": "code",
   "execution_count": null,
   "metadata": {
    "id": "lZAW-Dp8C8-8"
   },
   "outputs": [],
   "source": [
    "# 3)\n",
    "# Contagem das categorias de vacina aplicadas a menores de 18 anos\n",
    "contagem_vacinas_categoria = df_menores_18['vacina_categoria_nome'].value_counts()\n",
    "\n",
    "# Exibindo a contagem\n",
    "print(contagem_vacinas_categoria)"
   ]
  },
  {
   "cell_type": "code",
   "execution_count": null,
   "metadata": {
    "id": "xxYsxrxAC8-8"
   },
   "outputs": [],
   "source": [
    "# 4)\n",
    "# Lista de colunas relacionadas aos estabelecimentos\n",
    "colunas_estabelecimento = ['estabelecimento_razaoSocial', \n",
    "                           'estabelecimento_valor', \n",
    "                           'estabelecimento_municipio_nome', \n",
    "                           'estabelecimento_uf']\n",
    "\n",
    "# Exibindo as colunas de estabelecimento\n",
    "print(colunas_estabelecimento)"
   ]
  },
  {
   "cell_type": "code",
   "execution_count": null,
   "metadata": {
    "id": "vaX2x_0rC8-8"
   },
   "outputs": [],
   "source": [
    "# 5)\n",
    "# Selecionando as colunas relacionadas aos estabelecimentos\n",
    "df_estabelecimentos_menores_18 = df_menores_18.loc[:, colunas_estabelecimento]\n",
    "\n",
    "# Exibindo as primeiras linhas do DataFrame\n",
    "df_estabelecimentos_menores_18.head()"
   ]
  }
 ],
 "metadata": {
  "colab": {
   "provenance": []
  },
  "kernelspec": {
   "display_name": "Python 3 (ipykernel)",
   "language": "python",
   "name": "python3"
  },
  "language_info": {
   "codemirror_mode": {
    "name": "ipython",
    "version": 3
   },
   "file_extension": ".py",
   "mimetype": "text/x-python",
   "name": "python",
   "nbconvert_exporter": "python",
   "pygments_lexer": "ipython3",
   "version": "3.12.4"
  },
  "toc": {
   "base_numbering": 1,
   "nav_menu": {},
   "number_sections": false,
   "sideBar": true,
   "skip_h1_title": true,
   "title_cell": "Índice",
   "title_sidebar": "Conteúdo",
   "toc_cell": false,
   "toc_position": {},
   "toc_section_display": true,
   "toc_window_display": false
  },
  "varInspector": {
   "cols": {
    "lenName": 16,
    "lenType": 16,
    "lenVar": 40
   },
   "kernels_config": {
    "python": {
     "delete_cmd_postfix": "",
     "delete_cmd_prefix": "del ",
     "library": "var_list.py",
     "varRefreshCmd": "print(var_dic_list())"
    },
    "r": {
     "delete_cmd_postfix": ") ",
     "delete_cmd_prefix": "rm(",
     "library": "var_list.r",
     "varRefreshCmd": "cat(var_dic_list()) "
    }
   },
   "types_to_exclude": [
    "module",
    "function",
    "builtin_function_or_method",
    "instance",
    "_Feature"
   ],
   "window_display": false
  }
 },
 "nbformat": 4,
 "nbformat_minor": 4
}
