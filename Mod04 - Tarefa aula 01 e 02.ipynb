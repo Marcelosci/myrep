{
 "cells": [
  {
   "cell_type": "markdown",
   "metadata": {},
   "source": [
    "# Tarefa 01\n",
    "\n",
    "- Leia os enunciados com atenção\n",
    "- Saiba que pode haver mais de uma resposta correta\n",
    "- Insira novas células de código sempre que achar necessário\n",
    "- Em caso de dúvidas, procure os tutores\n",
    "- Divirta-se :)\n",
    "\n",
    "#### 1)  crie uma série do pandas a partir de uma lista com os dados abaixo:\n",
    "\n",
    "Em um estudo sobre alteração na tempreatura global, A NASA disponibiliza dados de diferenças de de temperatura média da superfície terrestre relativos às médias de temperatura entre 1951 e 1980. Os dados originais podem ser vistos no site da NASA/GISS, e estão dispostos a cada década na tabela abaixo.\n",
    "\n",
    "|ano|anomalia termica|\n",
    "|:-:|:----:|\n",
    "| 1900 | -0.08 |\n",
    "| 1920 | -0.27 |\n",
    "| 1940 | 0.12 |\n",
    "| 1960 | -0.03 |\n",
    "| 1980 | 0.26 |\n",
    "| 2000 | 0.40 |\n",
    "| 2020 | 1.02 |\n",
    "\n",
    "Crie uma séries do Pandas a partir de uma lista com esses dados."
   ]
  },
  {
   "cell_type": "code",
   "execution_count": 2,
   "metadata": {},
   "outputs": [
    {
     "data": {
      "text/plain": [
       "0   -0.08\n",
       "1   -0.27\n",
       "2    0.12\n",
       "3   -0.03\n",
       "4    0.26\n",
       "5    0.40\n",
       "6    1.02\n",
       "dtype: float64"
      ]
     },
     "execution_count": 2,
     "metadata": {},
     "output_type": "execute_result"
    }
   ],
   "source": [
    "import pandas as pd\n",
    "import numpy as np\n",
    "\n",
    "anomalia_termica = [-0.08,-0.27,0.12,-0.03,0.26,0.40,1.02]\n",
    "anosemindex = pd.Series(anomalia_termica)\n",
    "anosemindex"
   ]
  },
  {
   "cell_type": "markdown",
   "metadata": {},
   "source": [
    "#### 2) Coloque os anos nos índices conforme a tabela."
   ]
  },
  {
   "cell_type": "code",
   "execution_count": 4,
   "metadata": {},
   "outputs": [
    {
     "data": {
      "text/plain": [
       "1900   -0.08\n",
       "1920   -0.27\n",
       "1940    0.12\n",
       "1960   -0.03\n",
       "1980    0.26\n",
       "2000    0.40\n",
       "2020    1.02\n",
       "dtype: float64"
      ]
     },
     "execution_count": 4,
     "metadata": {},
     "output_type": "execute_result"
    }
   ],
   "source": [
    "\n",
    "# seu código aqui\n",
    "anoscomindex = pd.Series([-0.08,-0.27,0.12,-0.03,0.26,0.40,1.02],\n",
    "                                 index=['1900', '1920', '1940', '1960', '1980', '2000', '2020'])\n",
    "anoscomindex"
   ]
  },
  {
   "cell_type": "markdown",
   "metadata": {},
   "source": [
    "#### 3) A partir do dicionário abaixo, crie uma séries do Pandas:"
   ]
  },
  {
   "cell_type": "code",
   "execution_count": 6,
   "metadata": {},
   "outputs": [
    {
     "data": {
      "text/plain": [
       "1900   -0.08\n",
       "1920   -0.27\n",
       "1940    0.12\n",
       "1960   -0.03\n",
       "1980    0.26\n",
       "2000    0.40\n",
       "2020    1.02\n",
       "dtype: float64"
      ]
     },
     "execution_count": 6,
     "metadata": {},
     "output_type": "execute_result"
    }
   ],
   "source": [
    "dic_temperaturas = {1900: -.08, 1920: -.27, 1940: .12, 1960: -.03, 1980: .26, 2000: .40, 2020: 1.02}\n",
    "\n",
    "# seu código aqui\n",
    "series_temperaturas = pd.Series(dic_temperaturas)\n",
    "series_temperaturas"
   ]
  },
  {
   "cell_type": "markdown",
   "metadata": {},
   "source": [
    "#### 4) Transforme o ndarray abaixo em um dataframe. \n",
    "O numpy é capaz de gerar arrays n-dimensionais com números pseudo-aleatórios de acordo com uma variedade de distribuições, como no exemplo abaixo. Transforme esse nd-array em um DataFrame."
   ]
  },
  {
   "cell_type": "code",
   "execution_count": 8,
   "metadata": {},
   "outputs": [
    {
     "name": "stdout",
     "output_type": "stream",
     "text": [
      "      Coluna 1    Coluna 2    Coluna 3\n",
      "0   104.704483   93.112284  106.261424\n",
      "1   101.560756   82.763714  115.463510\n",
      "2    97.955210  106.670435  111.737170\n",
      "3    95.867172   88.365424   85.779381\n",
      "4    99.015624  103.197459   81.697110\n",
      "5    95.513255  108.327021   89.966161\n",
      "6    91.157427  107.414755  101.020674\n",
      "7   117.697097  106.918245  112.861170\n",
      "8   112.592768  103.174245  106.214425\n",
      "9    85.524905  116.325536  106.377678\n",
      "10  110.492356   89.153696  106.545947\n",
      "11  111.487952  110.530807   83.460015\n",
      "12  104.498082  100.891624  109.363668\n",
      "13  113.913392   96.390273  121.747651\n",
      "14   96.083813  109.860490   72.432778\n",
      "15   99.407645  102.076135   75.444827\n",
      "16   98.554996  106.448888   89.179784\n",
      "17   90.940516  116.522295  103.172228\n",
      "18  105.431199   88.553039   97.133285\n",
      "19  106.620372  106.115006   93.298204\n"
     ]
    }
   ],
   "source": [
    "arr = np.random.normal(100, 10, (20,3))\n",
    "\n",
    "# seu código aqui\n",
    "df = pd.DataFrame(arr, columns=['Coluna 1', 'Coluna 2', 'Coluna 3'])\n",
    "print (df)"
   ]
  },
  {
   "cell_type": "markdown",
   "metadata": {},
   "source": [
    "#### 5) Nomeie os índices das linhas com inteiros de 1 a 20, e as colunas com os nomes \"x1\", \"x2\", e \"x3\" respectivamente."
   ]
  },
  {
   "cell_type": "code",
   "execution_count": 10,
   "metadata": {},
   "outputs": [
    {
     "name": "stdout",
     "output_type": "stream",
     "text": [
      "            x1          x2          x3\n",
      "1   121.160873   87.452368  104.627309\n",
      "2    85.818683   90.124994   83.459700\n",
      "3    90.076966  101.420336   92.859140\n",
      "4    95.526702   95.167503   90.496796\n",
      "5    99.737454   96.272454   86.445870\n",
      "6   117.560897  114.507367  105.978020\n",
      "7    94.117116  103.167213  105.648625\n",
      "8    94.136031  102.348806  117.935739\n",
      "9   109.340930  105.091964   90.819391\n",
      "10  111.416914  108.303204  100.937865\n",
      "11   83.726390   97.019761   98.022987\n",
      "12   88.493506  111.682775   90.300716\n",
      "13   97.930173  120.167034  100.377107\n",
      "14  104.344405  129.080011   87.628919\n",
      "15  100.386343   97.212240   85.514478\n",
      "16   90.595451   89.896538  108.057828\n",
      "17   96.562198  101.818895   97.586302\n",
      "18  112.273510   96.911337  104.281845\n",
      "19   88.018552   98.052117  108.391141\n",
      "20   95.605709  108.287433  107.640340\n"
     ]
    }
   ],
   "source": [
    "#seu código aqui\n",
    "arr = np.random.normal(100, 10, (20, 3))\n",
    "\n",
    "# Transformando o array em um DataFrame e renomeando colunas e índices\n",
    "df = pd.DataFrame(arr, columns=['x1', 'x2', 'x3'])\n",
    "\n",
    "# Nomeando os índices das linhas de 1 a 20\n",
    "df.index = range(1, 21)\n",
    "\n",
    "# Exibindo o DataFrame\n",
    "print(df)"
   ]
  },
  {
   "cell_type": "markdown",
   "metadata": {},
   "source": [
    "#### 6) No DataFrame do exercício 5, crie uma nova coluna como sendo a média das três colunas, e dê a ela o nome de \"media\" (não recomendo colocar acentos em nomes de variáveis)."
   ]
  },
  {
   "cell_type": "code",
   "execution_count": 14,
   "metadata": {},
   "outputs": [
    {
     "name": "stdout",
     "output_type": "stream",
     "text": [
      "            x1          x2          x3       media\n",
      "1   107.945475   98.543961  121.569612  109.353016\n",
      "2   109.057839   94.872251  109.347895  104.425995\n",
      "3    81.285397   97.195947  112.844981   97.108775\n",
      "4    96.232784  101.512022   97.890142   98.544983\n",
      "5    99.368637  102.688073   91.429761   97.828824\n",
      "6   114.757410   97.949824   99.164724  103.957319\n",
      "7   118.803292   87.193381   95.973797  100.656823\n",
      "8   120.718520   83.312549   90.101453   98.044174\n",
      "9   102.754425  104.050331   83.600431   96.801729\n",
      "10  108.355876   81.368632   97.279014   95.667840\n",
      "11  106.305639   91.889866  107.037701  101.744402\n",
      "12  100.451072  104.035589  107.231356  103.906006\n",
      "13  100.537872  102.071644  104.460034  102.356517\n",
      "14   80.282454  108.425908  101.915030   96.874464\n",
      "15  116.016895  118.533464   95.270141  109.940167\n",
      "16  104.014968  117.868938   98.011793  106.631900\n",
      "17  108.489935   92.043204   96.654346   99.062495\n",
      "18  100.764541  108.061610   98.083753  102.303301\n",
      "19  101.367180  109.957676  104.078584  105.134480\n",
      "20   94.815716   97.896807  111.952817  101.555113\n"
     ]
    }
   ],
   "source": [
    "# seu código aqui\n",
    "arr = np.random.normal(100, 10, (20, 3))\n",
    "\n",
    "# Transformando o array em um DataFrame e renomeando colunas e índices\n",
    "df = pd.DataFrame(arr, columns=['x1', 'x2', 'x3'])\n",
    "df.index = range(1, 21)\n",
    "\n",
    "# Criando uma nova coluna com a média das três colunas\n",
    "df['media'] = df[['x1', 'x2', 'x3']].mean(axis=1)\n",
    "\n",
    "# Exibindo o DataFrame\n",
    "print(df)"
   ]
  },
  {
   "cell_type": "markdown",
   "metadata": {},
   "source": [
    "#### 7) No DataFrame do exercício 6, crie uma nova coluna chamada \"log_med\", contendo o logaritmo natural da média calculada no exercício 6 <br>"
   ]
  },
  {
   "cell_type": "code",
   "execution_count": 16,
   "metadata": {},
   "outputs": [
    {
     "name": "stdout",
     "output_type": "stream",
     "text": [
      "            x1          x2          x3       media   log_med\n",
      "1   107.945475   98.543961  121.569612  109.353016  4.694581\n",
      "2   109.057839   94.872251  109.347895  104.425995  4.648479\n",
      "3    81.285397   97.195947  112.844981   97.108775  4.575832\n",
      "4    96.232784  101.512022   97.890142   98.544983  4.590513\n",
      "5    99.368637  102.688073   91.429761   97.828824  4.583219\n",
      "6   114.757410   97.949824   99.164724  103.957319  4.643980\n",
      "7   118.803292   87.193381   95.973797  100.656823  4.611717\n",
      "8   120.718520   83.312549   90.101453   98.044174  4.585418\n",
      "9   102.754425  104.050331   83.600431   96.801729  4.572665\n",
      "10  108.355876   81.368632   97.279014   95.667840  4.560882\n",
      "11  106.305639   91.889866  107.037701  101.744402  4.622464\n",
      "12  100.451072  104.035589  107.231356  103.906006  4.643487\n",
      "13  100.537872  102.071644  104.460034  102.356517  4.628462\n",
      "14   80.282454  108.425908  101.915030   96.874464  4.573416\n",
      "15  116.016895  118.533464   95.270141  109.940167  4.699936\n",
      "16  104.014968  117.868938   98.011793  106.631900  4.669383\n",
      "17  108.489935   92.043204   96.654346   99.062495  4.595751\n",
      "18  100.764541  108.061610   98.083753  102.303301  4.627942\n",
      "19  101.367180  109.957676  104.078584  105.134480  4.655240\n",
      "20   94.815716   97.896807  111.952817  101.555113  4.620602\n"
     ]
    }
   ],
   "source": [
    "# seu código aqui\n",
    "df = pd.DataFrame(arr, columns=['x1', 'x2', 'x3'])\n",
    "df.index = range(1, 21)\n",
    "\n",
    "# Criando a coluna \"media\" com a média das três colunas\n",
    "df['media'] = df[['x1', 'x2', 'x3']].mean(axis=1)\n",
    "\n",
    "# Criando a coluna \"log_med\" com o logaritmo natural da coluna \"media\"\n",
    "df['log_med'] = np.log(df['media'])\n",
    "\n",
    "# Exibindo o DataFrame\n",
    "print(df)"
   ]
  }
 ],
 "metadata": {
  "kernelspec": {
   "display_name": "Python 3 (ipykernel)",
   "language": "python",
   "name": "python3"
  },
  "language_info": {
   "codemirror_mode": {
    "name": "ipython",
    "version": 3
   },
   "file_extension": ".py",
   "mimetype": "text/x-python",
   "name": "python",
   "nbconvert_exporter": "python",
   "pygments_lexer": "ipython3",
   "version": "3.12.4"
  }
 },
 "nbformat": 4,
 "nbformat_minor": 4
}
