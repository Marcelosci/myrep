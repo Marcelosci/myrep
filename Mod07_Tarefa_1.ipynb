{
 "cells": [
  {
   "cell_type": "markdown",
   "metadata": {
    "id": "d8yCrvnM_2sd"
   },
   "source": [
    "# Módulo 07, Tarefa 01\n",
    "\n",
    "Vamos começar a mexer na nossa base de projeto? Já fizemos um exercício de montar a variável resposta, já pudemos perceber que essa atividade pode não ser trivial. Vamos agora trabalhar a base para que fique propícia ao *scikitlearn* para trabalharmos.\n",
    "\n",
    "Lembrando, a base se chama demo01.csv, e originalmente está publicada [aqui](https://www.kaggle.com/rikdifos/credit-card-approval-prediction)."
   ]
  },
  {
   "cell_type": "markdown",
   "metadata": {
    "id": "hcMBVVE8_2sg"
   },
   "source": [
    "#### 1) Carregue a base e avalie:\n",
    "\n",
    "- As variáveis\n",
    "- Tipos de dados de cada variável\n",
    "- Quantidade de missings\n",
    "- Distribuição da variável resposta (mau)"
   ]
  },
  {
   "cell_type": "code",
   "execution_count": 67,
   "metadata": {
    "id": "jfUxW_PX_2sh"
   },
   "outputs": [
    {
     "name": "stdout",
     "output_type": "stream",
     "text": [
      "\n",
      "Tipos de dados de cada variável:\n",
      "sexo                      object\n",
      "posse_de_veiculo          object\n",
      "posse_de_imovel           object\n",
      "qtd_filhos                 int64\n",
      "tipo_renda                object\n",
      "educacao                  object\n",
      "estado_civil              object\n",
      "tipo_residencia           object\n",
      "idade                    float64\n",
      "tempo_emprego            float64\n",
      "possui_celular             int64\n",
      "possui_fone_comercial      int64\n",
      "possui_fone                int64\n",
      "possui_email               int64\n",
      "qt_pessoas_residencia    float64\n",
      "mau                         bool\n",
      "dtype: object\n",
      "\n",
      "Quantidade de missings por coluna:\n",
      "sexo                     0\n",
      "posse_de_veiculo         0\n",
      "posse_de_imovel          0\n",
      "qtd_filhos               0\n",
      "tipo_renda               0\n",
      "educacao                 0\n",
      "estado_civil             0\n",
      "tipo_residencia          0\n",
      "idade                    0\n",
      "tempo_emprego            0\n",
      "possui_celular           0\n",
      "possui_fone_comercial    0\n",
      "possui_fone              0\n",
      "possui_email             0\n",
      "qt_pessoas_residencia    0\n",
      "mau                      0\n",
      "dtype: int64\n",
      "\n",
      "Distribuição da variável 'mau':\n",
      "mau\n",
      "False    0.976577\n",
      "True     0.023423\n",
      "Name: proportion, dtype: float64\n",
      "mau\n",
      "False    16260\n",
      "True       390\n",
      "Name: count, dtype: int64\n"
     ]
    }
   ],
   "source": [
    "# Importar bibliotecas\n",
    "import pandas as pd\n",
    "\n",
    "# ------------------------------------\n",
    "# 1) Carregar a base e avaliar\n",
    "# ------------------------------------\n",
    "\n",
    "# Carregar a base de dados\n",
    "df = pd.read_csv('Profissão Cientista de Dados M7 A1 - demo01.csv')\n",
    "\n",
    "# Verificar informações gerais\n",
    "print(\"\\nTipos de dados de cada variável:\")\n",
    "print(df.dtypes)\n",
    "\n",
    "# Verificar quantidade de valores ausentes (missing)\n",
    "print(\"\\nQuantidade de missings por coluna:\")\n",
    "print(df.isnull().sum())\n",
    "\n",
    "# Verificar a distribuição da variável resposta 'mau'\n",
    "print(\"\\nDistribuição da variável 'mau':\")\n",
    "print(df['mau'].value_counts(normalize=True))\n",
    "print(df['mau'].value_counts())"
   ]
  },
  {
   "cell_type": "code",
   "execution_count": 79,
   "metadata": {},
   "outputs": [
    {
     "name": "stdout",
     "output_type": "stream",
     "text": [
      "Colunas da base:\n",
      "['sexo', 'posse_de_veiculo', 'posse_de_imovel', 'qtd_filhos', 'tipo_renda', 'educacao', 'estado_civil', 'tipo_residencia', 'idade', 'tempo_emprego', 'possui_celular', 'possui_fone_comercial', 'possui_fone', 'possui_email', 'qt_pessoas_residencia', 'mau']\n",
      "\n",
      "Verificando se 'mau' está na base:\n",
      "✅ A coluna 'mau' está na base.\n",
      "\n",
      "Valores únicos da variável 'mau':\n",
      "[False  True]\n"
     ]
    }
   ],
   "source": [
    "# Carregar a base\n",
    "df = pd.read_csv('Profissão Cientista de Dados M7 A1 - demo01.csv')\n",
    "\n",
    "# Limpar espaços nos nomes das colunas\n",
    "df.columns = df.columns.str.strip()\n",
    "\n",
    "# Conferir se a coluna 'mau' existe\n",
    "print(\"Colunas da base:\")\n",
    "print(df.columns.tolist())\n",
    "\n",
    "print(\"\\nVerificando se 'mau' está na base:\")\n",
    "if 'mau' in df.columns:\n",
    "    print(\"✅ A coluna 'mau' está na base.\")\n",
    "    print(\"\\nValores únicos da variável 'mau':\")\n",
    "    print(df['mau'].unique())\n",
    "else:\n",
    "    print(\"❌ A coluna 'mau' não foi encontrada. Verifique se há erro no nome.\")\n",
    "\n",
    "# ✅ Converter 'mau' de booleano para inteiro\n",
    "df['mau'] = df['mau'].astype(int)"
   ]
  },
  {
   "cell_type": "markdown",
   "metadata": {
    "id": "_v0f02mE_2si"
   },
   "source": [
    "#### 2) Vamos montar um metadados\n",
    "\n",
    "1. Crie um dataframe com os nomes de cada variável e o tipo de dados de cada variável.\n",
    "2. Adicione uma coluna nesse *dataframe* chamada \"qtd_categorias\" e coloque nela o número de categorias correspondente de cada variável.\n",
    "    Dica:\n",
    "        1. inicie uma lista vazia\n",
    "        2. faça um for ao longo dos nomes das variáveis,\n",
    "        3. conte o número de categorias dessa variável\n",
    "        4. acumule essa informação de 3. na lista que você criou em 1.\n",
    "        5. No final, essa lista pode ser atribuída à nossa variável."
   ]
  },
  {
   "cell_type": "code",
   "execution_count": 71,
   "metadata": {
    "id": "gNF5BRdA_2si"
   },
   "outputs": [
    {
     "name": "stdout",
     "output_type": "stream",
     "text": [
      "\n",
      "Metadados:\n",
      "                                    variavel tipo_dado  qtd_categorias\n",
      "sexo                                    sexo    object               2\n",
      "posse_de_veiculo            posse_de_veiculo    object               2\n",
      "posse_de_imovel              posse_de_imovel    object               2\n",
      "qtd_filhos                        qtd_filhos     int64               8\n",
      "tipo_renda                        tipo_renda    object               5\n",
      "educacao                            educacao    object               5\n",
      "estado_civil                    estado_civil    object               5\n",
      "tipo_residencia              tipo_residencia    object               6\n",
      "idade                                  idade   float64            5298\n",
      "tempo_emprego                  tempo_emprego   float64            3005\n",
      "possui_celular                possui_celular     int64               1\n",
      "possui_fone_comercial  possui_fone_comercial     int64               2\n",
      "possui_fone                      possui_fone     int64               2\n",
      "possui_email                    possui_email     int64               2\n",
      "qt_pessoas_residencia  qt_pessoas_residencia   float64               9\n",
      "mau                                      mau      bool               2\n"
     ]
    }
   ],
   "source": [
    "# Criar dataframe com nomes das variáveis e tipos\n",
    "metadados = pd.DataFrame({\n",
    "    'variavel': df.columns,\n",
    "    'tipo_dado': df.dtypes.astype(str)\n",
    "})\n",
    "\n",
    "# Contar quantidade de categorias por variável\n",
    "qtd_categorias = []\n",
    "\n",
    "for col in df.columns:\n",
    "    qtd = df[col].nunique()\n",
    "    qtd_categorias.append(qtd)\n",
    "\n",
    "# Adicionar essa informação no metadados\n",
    "metadados['qtd_categorias'] = qtd_categorias\n",
    "\n",
    "print(\"\\nMetadados:\")\n",
    "print(metadados)"
   ]
  },
  {
   "cell_type": "markdown",
   "metadata": {
    "id": "h0XKJFhY_2si"
   },
   "source": [
    "#### 3) Crie variáveis dummy para as variáveis necessárias (i.e. aquelas que são qualitativas e não estão armazenadas como {0, 1} ou {True, False}. Crie um *dataframe* apenas com as variáveis apropriadas para entrada no scikitlearn - elimine as variáveis tipo *str*, mantendo apenas suas versões *dummy*."
   ]
  },
  {
   "cell_type": "code",
   "execution_count": 73,
   "metadata": {
    "id": "ePbdZDOi_2sj"
   },
   "outputs": [
    {
     "name": "stdout",
     "output_type": "stream",
     "text": [
      "\n",
      "Metadados:\n",
      "                                    variavel tipo_dado  qtd_categorias\n",
      "sexo                                    sexo    object               2\n",
      "posse_de_veiculo            posse_de_veiculo    object               2\n",
      "posse_de_imovel              posse_de_imovel    object               2\n",
      "qtd_filhos                        qtd_filhos     int64               8\n",
      "tipo_renda                        tipo_renda    object               5\n",
      "educacao                            educacao    object               5\n",
      "estado_civil                    estado_civil    object               5\n",
      "tipo_residencia              tipo_residencia    object               6\n",
      "idade                                  idade   float64            5298\n",
      "tempo_emprego                  tempo_emprego   float64            3005\n",
      "possui_celular                possui_celular     int64               1\n",
      "possui_fone_comercial  possui_fone_comercial     int64               2\n",
      "possui_fone                      possui_fone     int64               2\n",
      "possui_email                    possui_email     int64               2\n",
      "qt_pessoas_residencia  qt_pessoas_residencia   float64               9\n",
      "mau                                      mau      bool               2\n"
     ]
    }
   ],
   "source": [
    "# Criar dataframe com nomes das variáveis e tipos\n",
    "metadados = pd.DataFrame({\n",
    "    'variavel': df.columns,\n",
    "    'tipo_dado': df.dtypes.astype(str)\n",
    "})\n",
    "\n",
    "# Contar quantidade de categorias por variável\n",
    "qtd_categorias = []\n",
    "\n",
    "for col in df.columns:\n",
    "    qtd = df[col].nunique()\n",
    "    qtd_categorias.append(qtd)\n",
    "\n",
    "# Adicionar essa informação no metadados\n",
    "metadados['qtd_categorias'] = qtd_categorias\n",
    "\n",
    "print(\"\\nMetadados:\")\n",
    "print(metadados)"
   ]
  },
  {
   "cell_type": "markdown",
   "metadata": {
    "id": "uhaqFcPE_2sj"
   },
   "source": [
    "#### 4) Qual variável é mais poderosa?\n",
    "\n",
    "Considere as variáveis ```possui_email``` e ```posse_de_veiculo```. Faça uma tabela cruzada entre elas e responda qual delas te parece mais poderosa para prever a probabilidade de ```mau = 1```?"
   ]
  },
  {
   "cell_type": "code",
   "execution_count": 81,
   "metadata": {
    "id": "3wUAHc_-_2sj"
   },
   "outputs": [
    {
     "name": "stdout",
     "output_type": "stream",
     "text": [
      "Probabilidade de mau=1 dado possui_email\n",
      "possui_email\n",
      "0    0.023731\n",
      "1    0.020270\n",
      "Name: 1, dtype: float64\n",
      "\n",
      "Probabilidade de mau=1 dado posse_de_veiculo\n",
      "posse_de_veiculo\n",
      "N    0.024268\n",
      "Y    0.022095\n",
      "Name: 1, dtype: float64\n"
     ]
    }
   ],
   "source": [
    "# Tabelas cruzadas\n",
    "cross_email = pd.crosstab(df['possui_email'], df['mau'], normalize='index')\n",
    "cross_veiculo = pd.crosstab(df['posse_de_veiculo'], df['mau'], normalize='index')\n",
    "\n",
    "print(\"Probabilidade de mau=1 dado possui_email\")\n",
    "print(cross_email[1])\n",
    "\n",
    "print(\"\\nProbabilidade de mau=1 dado posse_de_veiculo\")\n",
    "print(cross_veiculo[1])"
   ]
  },
  {
   "cell_type": "markdown",
   "metadata": {
    "id": "G2Issl2e_2sj"
   },
   "source": [
    "#### 5) Salve a base, pois ela será utilizada no final deste módulo."
   ]
  },
  {
   "cell_type": "code",
   "execution_count": 85,
   "metadata": {
    "id": "KSEj8OL9_2sk"
   },
   "outputs": [
    {
     "name": "stdout",
     "output_type": "stream",
     "text": [
      "Base salva como demo01_tratado.csv\n"
     ]
    }
   ],
   "source": [
    "# Salvar a base pronta para machine learning\n",
    "df_dummies.to_csv('demo01_tratado.csv', index=False)\n",
    "print(\"Base salva como demo01_tratado.csv\")"
   ]
  }
 ],
 "metadata": {
  "colab": {
   "provenance": []
  },
  "kernelspec": {
   "display_name": "Python [conda env:base] *",
   "language": "python",
   "name": "conda-base-py"
  },
  "language_info": {
   "codemirror_mode": {
    "name": "ipython",
    "version": 3
   },
   "file_extension": ".py",
   "mimetype": "text/x-python",
   "name": "python",
   "nbconvert_exporter": "python",
   "pygments_lexer": "ipython3",
   "version": "3.12.7"
  }
 },
 "nbformat": 4,
 "nbformat_minor": 4
}
