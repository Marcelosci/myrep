{
 "cells": [
  {
   "cell_type": "markdown",
   "metadata": {},
   "source": [
    "# Módulo 5 Tarefa 1\n",
    "## Base de nascidos vivos do DataSUS\n",
    "O DataSUS disponibiliza diversos arquivos de dados com relação a seus segurados, conforme a [lei da transparência de informações públicas](https://www.sisgov.com/transparencia-acesso-informacao/#:~:text=A%20Lei%20da%20Transpar%C3%AAncia%20(LC,em%20um%20site%20na%20internet.). \n",
    "\n",
    "Essas informações podem ser obtidas pela internet [aqui](http://www2.datasus.gov.br/DATASUS/index.php?area=0901&item=1). Como o processo de obtenção desses arquivos foge um pouco do nosso escopo, deixamos o arquivo SINASC_RO_2019.csv` já como vai ser encontrado no DataSUS. O dicionário de dados está no arquivo `estrutura_sinasc_para_CD.pdf` (o nome do arquivo tal qual no portal do DataSUS).\n",
    "\n",
    "### Nosso objetivo\n",
    "Queremos deixar uma base organizada para podermos estudar a relação entre partos com risco para o bebê e algumas condições como tempo de parto, consultas de pré-natal etc.\n",
    "\n",
    "#### Preparação da base\n",
    "1. Carregue a base 'SINASC_RO_2019.csv'. Conte o número de registros e o número de registros não duplicados da base. Dica: você aprendeu um método que remove duplicados, encadeie este método com um outro método que conta o número de linhas. **Há linhas duplicadas?**  \n",
    "\n",
    "2. Conte o número de valores *missing* por variável.  \n",
    "\n",
    "3. Ok, no item anterior você deve ter achado pouco prático ler a informação de tantas variáveis, muitas delas nem devem ser interesantes. Então crie uma seleção dessa base somente com as colunas que interessam. São elas:\n",
    "` \n",
    "['LOCNASC', 'IDADEMAE', 'ESTCIVMAE', 'ESCMAE', 'QTDFILVIVO', \n",
    "    'GESTACAO', 'GRAVIDEZ', 'CONSULTAS', 'APGAR5'] \n",
    "`\n",
    "Refaça a contagem de valores *missings*.  \n",
    "\n",
    "4. Apgar é uma *nota* que o pediatra dá ao bebê quando nasce de acordo com algumas características associadas principalmente à respiração. Apgar 1 e Apgar 5 são as notas 1 e 5 minutos do nascimento. Apgar5 será a nossa variável de interesse principal. Então remova todos os registros com Apgar5 não preenchido. Para esta seleção, conte novamente o número de linhas e o número de *missings*.  \n",
    "\n",
    "5. observe que as variáveis `['ESTCIVMAE', 'CONSULTAS']` possuem o código `9`, que significa *ignorado*. Vamos assumir que o não preenchido é o mesmo que o código `9`.<br>\n",
    "6. Substitua os valores faltantes da quantitativa (`QTDFILVIVO`) por zero.  \n",
    "7. Das restantes, decida que valore te parece mais adequado (um 'não preenchido' ou um valor 'mais provável' como no item anterior) e preencha. Justifique. Lembre-se de que tratamento de dados é trabalho do cientista, e que estamos tomando decisões a todo o momento - não há necessariamente certo e errado aqui.  \n",
    "8. O Apgar possui uma classificação indicando se o bebê passou por asfixia:\n",
    "- Entre 8 e 10 está em uma faixa 'normal'. \n",
    "- Entre 6 e 7, significa que o recém-nascido passou por 'asfixia leve'. \n",
    "- Entre 4 e 5 significa 'asfixia moderada'.\n",
    "- Entre 0 e 3 significa 'asfixia severa'.  \n",
    "\n",
    "Crie uma categorização dessa variável com essa codificação e calcule as frequências dessa categorização.  \n",
    "<br>\n",
    "9. Renomeie as variáveis para que fiquem no *snake case*, ou seja, em letras minúsculas, com um *underscore* entre as palávras. Dica: repare que se você não quiser criar um *dataframe* novo, você vai precisar usar a opção `inplace = True`."
   ]
  },
  {
   "cell_type": "code",
   "execution_count": 1,
   "metadata": {},
   "outputs": [
    {
     "name": "stdout",
     "output_type": "stream",
     "text": [
      "(27028, 69)\n"
     ]
    },
    {
     "data": {
      "text/plain": [
       "(27028, 69)"
      ]
     },
     "execution_count": 1,
     "metadata": {},
     "output_type": "execute_result"
    }
   ],
   "source": [
    "import pandas as pd\n",
    "import requests\n",
    "\n",
    "# 1) seu código aqui\n",
    "sinasc = pd.read_csv('SINASC_RO_2019.csv')\n",
    "print(sinasc.shape)\n",
    "sinasc.drop_duplicates().shape\n",
    "# Não há duplicados"
   ]
  },
  {
   "cell_type": "code",
   "execution_count": 6,
   "metadata": {},
   "outputs": [
    {
     "name": "stdout",
     "output_type": "stream",
     "text": [
      "Total de registros: 27028\n",
      "Total de registros únicos: 27028\n",
      "Não há linhas duplicadas.\n"
     ]
    }
   ],
   "source": [
    "# 1) Contar o número de registros e verificar duplicatas\n",
    "total_registros = sinasc.shape[0]\n",
    "total_registros_unicos = sinasc.drop_duplicates().shape[0]\n",
    "print(f\"Total de registros: {total_registros}\")\n",
    "print(f\"Total de registros únicos: {total_registros_unicos}\")\n",
    "\n",
    "# Verificar se há linhas duplicadas\n",
    "if total_registros == total_registros_unicos:\n",
    "    print(\"Não há linhas duplicadas.\")\n",
    "else:\n",
    "    print(\"Há linhas duplicadas na base de dados.\")"
   ]
  },
  {
   "cell_type": "code",
   "execution_count": 10,
   "metadata": {},
   "outputs": [
    {
     "name": "stdout",
     "output_type": "stream",
     "text": [
      "\n",
      "Valores ausentes por variável:\n",
      " ORIGEM          0\n",
      "CODESTAB      115\n",
      "CODMUNNASC      0\n",
      "LOCNASC         0\n",
      "IDADEMAE        0\n",
      "             ... \n",
      "munResUf        0\n",
      "munResLat       1\n",
      "munResLon       1\n",
      "munResAlt       1\n",
      "munResArea      1\n",
      "Length: 69, dtype: int64\n"
     ]
    }
   ],
   "source": [
    "# 2) Contar o número de valores missing por variável\n",
    "missing_values = sinasc.isnull().sum()\n",
    "print(\"\\nValores ausentes por variável:\\n\", missing_values)"
   ]
  },
  {
   "cell_type": "code",
   "execution_count": 12,
   "metadata": {},
   "outputs": [
    {
     "name": "stdout",
     "output_type": "stream",
     "text": [
      "Valores ausentes por variável (colunas selecionadas):\n",
      " LOCNASC          0\n",
      "IDADEMAE         0\n",
      "ESTCIVMAE      317\n",
      "ESCMAE         312\n",
      "QTDFILVIVO    1573\n",
      "GESTACAO      1232\n",
      "GRAVIDEZ        79\n",
      "CONSULTAS        0\n",
      "APGAR5         103\n",
      "dtype: int64\n"
     ]
    }
   ],
   "source": [
    "# Selecionar apenas as colunas de interesse\n",
    "colunas_interesse = ['LOCNASC', 'IDADEMAE', 'ESTCIVMAE', 'ESCMAE', 'QTDFILVIVO', \n",
    "                     'GESTACAO', 'GRAVIDEZ', 'CONSULTAS', 'APGAR5']\n",
    "sinasc_selecionado = sinasc[colunas_interesse]\n",
    "\n",
    "# Contar valores missing por variável na base selecionada\n",
    "missing_values_selecionado = sinasc_selecionado.isnull().sum()\n",
    "print(\"Valores ausentes por variável (colunas selecionadas):\\n\", missing_values_selecionado)"
   ]
  },
  {
   "cell_type": "code",
   "execution_count": 14,
   "metadata": {},
   "outputs": [
    {
     "name": "stdout",
     "output_type": "stream",
     "text": [
      "Total de registros após remoção de Apgar5 não preenchido: 26925\n",
      "\n",
      "Valores ausentes por variável (após remoção de Apgar5 ausente):\n",
      " LOCNASC          0\n",
      "IDADEMAE         0\n",
      "ESTCIVMAE      315\n",
      "ESCMAE         310\n",
      "QTDFILVIVO    1566\n",
      "GESTACAO      1216\n",
      "GRAVIDEZ        76\n",
      "CONSULTAS        0\n",
      "APGAR5           0\n",
      "dtype: int64\n"
     ]
    }
   ],
   "source": [
    "# Remover registros com Apgar5 não preenchido\n",
    "sinasc_selecionado = sinasc_selecionado.dropna(subset=['APGAR5'])\n",
    "\n",
    "# Contar o número de linhas após a remoção\n",
    "total_registros_filtrados = sinasc_selecionado.shape[0]\n",
    "print(f\"Total de registros após remoção de Apgar5 não preenchido: {total_registros_filtrados}\")\n",
    "\n",
    "# Contar valores missing por variável na base filtrada\n",
    "missing_values_filtrado = sinasc_selecionado.isnull().sum()\n",
    "print(\"\\nValores ausentes por variável (após remoção de Apgar5 ausente):\\n\", missing_values_filtrado)\n"
   ]
  },
  {
   "cell_type": "code",
   "execution_count": 18,
   "metadata": {},
   "outputs": [
    {
     "name": "stdout",
     "output_type": "stream",
     "text": [
      "\n",
      "Valores ausentes por variável (após substituição por 9):\n",
      " LOCNASC          0\n",
      "IDADEMAE         0\n",
      "ESTCIVMAE        0\n",
      "ESCMAE         310\n",
      "QTDFILVIVO    1566\n",
      "GESTACAO      1216\n",
      "GRAVIDEZ        76\n",
      "CONSULTAS        0\n",
      "APGAR5           0\n",
      "dtype: int64\n"
     ]
    }
   ],
   "source": [
    "# Substituir valores ausentes por 9 nas colunas ESTCIVMAE e CONSULTAS, sem usar inplace\n",
    "sinasc_selecionado['ESTCIVMAE'] = sinasc_selecionado['ESTCIVMAE'].fillna(9)\n",
    "sinasc_selecionado['CONSULTAS'] = sinasc_selecionado['CONSULTAS'].fillna(9)\n",
    "\n",
    "# Contar novamente os valores missing por variável para confirmar as mudanças\n",
    "missing_values_final = sinasc_selecionado.isnull().sum()\n",
    "print(\"\\nValores ausentes por variável (após substituição por 9):\\n\", missing_values_final)"
   ]
  },
  {
   "cell_type": "code",
   "execution_count": 20,
   "metadata": {},
   "outputs": [
    {
     "name": "stdout",
     "output_type": "stream",
     "text": [
      "\n",
      "Valores ausentes por variável (após substituição de QTDFILVIVO por 0):\n",
      " LOCNASC          0\n",
      "IDADEMAE         0\n",
      "ESTCIVMAE        0\n",
      "ESCMAE         310\n",
      "QTDFILVIVO       0\n",
      "GESTACAO      1216\n",
      "GRAVIDEZ        76\n",
      "CONSULTAS        0\n",
      "APGAR5           0\n",
      "dtype: int64\n"
     ]
    }
   ],
   "source": [
    "# Substituir valores ausentes por 0 na coluna QTDFILVIVO\n",
    "sinasc_selecionado['QTDFILVIVO'] = sinasc_selecionado['QTDFILVIVO'].fillna(0)\n",
    "\n",
    "# Contar novamente os valores missing por variável para confirmar as mudanças\n",
    "missing_values_final = sinasc_selecionado.isnull().sum()\n",
    "print(\"\\nValores ausentes por variável (após substituição de QTDFILVIVO por 0):\\n\", missing_values_final)"
   ]
  },
  {
   "cell_type": "code",
   "execution_count": 24,
   "metadata": {},
   "outputs": [
    {
     "name": "stdout",
     "output_type": "stream",
     "text": [
      "\n",
      "Valores ausentes por variável (após preenchimento final):\n",
      " LOCNASC       0\n",
      "IDADEMAE      0\n",
      "ESTCIVMAE     0\n",
      "ESCMAE        0\n",
      "QTDFILVIVO    0\n",
      "GESTACAO      0\n",
      "GRAVIDEZ      0\n",
      "CONSULTAS     0\n",
      "APGAR5        0\n",
      "dtype: int64\n"
     ]
    }
   ],
   "source": [
    "# Substituir valores ausentes conforme as decisões acima\n",
    "\n",
    "# LOCNASC: preencher com o valor mais comum\n",
    "sinasc_selecionado['LOCNASC'] = sinasc_selecionado['LOCNASC'].fillna(sinasc_selecionado['LOCNASC'].mode()[0])\n",
    "\n",
    "# IDADEMAE: preencher com a mediana\n",
    "sinasc_selecionado['IDADEMAE'] = sinasc_selecionado['IDADEMAE'].fillna(sinasc_selecionado['IDADEMAE'].median())\n",
    "\n",
    "# ESCMAE: preencher com 9 para indicar ignorado\n",
    "sinasc_selecionado['ESCMAE'] = sinasc_selecionado['ESCMAE'].fillna(9)\n",
    "\n",
    "# GESTACAO: preencher com o valor mais comum\n",
    "sinasc_selecionado['GESTACAO'] = sinasc_selecionado['GESTACAO'].fillna(sinasc_selecionado['GESTACAO'].mode()[0])\n",
    "\n",
    "# GRAVIDEZ: preencher com o valor mais comum\n",
    "sinasc_selecionado['GRAVIDEZ'] = sinasc_selecionado['GRAVIDEZ'].fillna(sinasc_selecionado['GRAVIDEZ'].mode()[0])\n",
    "\n",
    "# Contar valores missing por variável para confirmar as mudanças\n",
    "missing_values_final = sinasc_selecionado.isnull().sum()\n",
    "print(\"\\nValores ausentes por variável (após preenchimento final):\\n\", missing_values_final)"
   ]
  },
  {
   "cell_type": "code",
   "execution_count": 26,
   "metadata": {},
   "outputs": [
    {
     "name": "stdout",
     "output_type": "stream",
     "text": [
      "Frequências da categorização de Apgar5:\n",
      " ASFIXIA\n",
      "normal              26463\n",
      "asfixia leve          320\n",
      "asfixia severa         74\n",
      "asfixia moderada       68\n",
      "Name: count, dtype: int64\n"
     ]
    }
   ],
   "source": [
    "# Criar uma nova coluna 'ASFIXIA' com a categorização de Apgar5\n",
    "sinasc_selecionado['ASFIXIA'] = pd.cut(\n",
    "    sinasc_selecionado['APGAR5'],\n",
    "    bins=[-1, 3, 5, 7, 10],  # Intervalos de acordo com a classificação\n",
    "    labels=['asfixia severa', 'asfixia moderada', 'asfixia leve', 'normal']\n",
    ")\n",
    "\n",
    "# Calcular a frequência das categorias de asfixia\n",
    "frequencias_asfixia = sinasc_selecionado['ASFIXIA'].value_counts()\n",
    "print(\"Frequências da categorização de Apgar5:\\n\", frequencias_asfixia)"
   ]
  },
  {
   "cell_type": "code",
   "execution_count": 28,
   "metadata": {},
   "outputs": [
    {
     "name": "stdout",
     "output_type": "stream",
     "text": [
      "Nomes das colunas após a renomeação:\n",
      " Index(['loc_nasc', 'idade_mae', 'est_civ_mae', 'esc_mae', 'qtd_fil_vivo',\n",
      "       'gestacao', 'gravidez', 'consultas', 'apgar5', 'asfixia'],\n",
      "      dtype='object')\n"
     ]
    }
   ],
   "source": [
    "# Renomear as colunas para snake_case\n",
    "sinasc_selecionado.rename(columns={\n",
    "    'LOCNASC': 'loc_nasc',\n",
    "    'IDADEMAE': 'idade_mae',\n",
    "    'ESTCIVMAE': 'est_civ_mae',\n",
    "    'ESCMAE': 'esc_mae',\n",
    "    'QTDFILVIVO': 'qtd_fil_vivo',\n",
    "    'GESTACAO': 'gestacao',\n",
    "    'GRAVIDEZ': 'gravidez',\n",
    "    'CONSULTAS': 'consultas',\n",
    "    'APGAR5': 'apgar5',\n",
    "    'ASFIXIA': 'asfixia'\n",
    "}, inplace=True)\n",
    "\n",
    "# Verificar as mudanças de nome\n",
    "print(\"Nomes das colunas após a renomeação:\\n\", sinasc_selecionado.columns)"
   ]
  }
 ],
 "metadata": {
  "kernelspec": {
   "display_name": "Python 3 (ipykernel)",
   "language": "python",
   "name": "python3"
  },
  "language_info": {
   "codemirror_mode": {
    "name": "ipython",
    "version": 3
   },
   "file_extension": ".py",
   "mimetype": "text/x-python",
   "name": "python",
   "nbconvert_exporter": "python",
   "pygments_lexer": "ipython3",
   "version": "3.12.4"
  }
 },
 "nbformat": 4,
 "nbformat_minor": 4
}
