{
 "cells": [
  {
   "cell_type": "markdown",
   "metadata": {
    "id": "SEE0vQsW83yB"
   },
   "source": [
    "### 01 - Teste de gravidez\n",
    "Escreva uma célula com controle de fluxos que tem como premissa a existência das seguintes variáveis:\n",
    "\n",
    "- ```sexo``` como ```str``` indicando os valores '**M**' para masculino e '**F**' para feminino  \n",
    "- ```beta_hcg``` que indica a quantidade do beta-HCG no sangue em mUI/mL.\n",
    "\n",
    "A sua tarefa é escrever um código que imprima como resultado \"indivíduo do sexo masculino\" quando sexo = 'M', caso sexo = 'F', se o valor de beta-HCG for maior que 5, retorne \"Positivo\" indicando que a paciente está grávida, e retorne \"Negativo\" caso contrário.\n",
    "\n",
    "Não mexa nos valores da variável ```sexo``` nem em ```beta_hcg```, e escreva um código que funcione para quaisquer valores possíveis de ambos: ```sexo``` = '**M**' ou '**F**' e ```beta_hcg``` assumindo valores inteiros positivos."
   ]
  },
  {
   "cell_type": "code",
   "execution_count": 18,
   "metadata": {
    "id": "cTOc4LG683yE"
   },
   "outputs": [
    {
     "name": "stdin",
     "output_type": "stream",
     "text": [
      "Digite o valor do exame:  2\n"
     ]
    },
    {
     "name": "stdout",
     "output_type": "stream",
     "text": [
      "Resultado da gravidez: negativo.\n"
     ]
    }
   ],
   "source": [
    "sexo = 'M'\n",
    "beta_hcg = 0\n",
    "\n",
    "# seu código vem abaixo desta linha\n",
    "def verificar_gravidez_e_sexo(valor_exame: int, sexo: str) -> str:\n",
    "    # Verifica se o valor do exame é positivo ou negativo\n",
    "    if valor_exame > 5:\n",
    "        resultado_gravidez = \"positivo\"\n",
    "    else:\n",
    "        return \"Resultado da gravidez: negativo.\"\n",
    "\n",
    "    # Verifica se o sexo é masculino ou feminino\n",
    "    if sexo.upper() == 'M':\n",
    "        sexo_bebe = \"individuo do sexo masculino\"\n",
    "    elif sexo.upper() == 'F':\n",
    "        sexo_bebe = \"individuo do sexo feminino\"\n",
    "    else:\n",
    "        return \"Sexo inválido. Use 'M' para masculino ou 'F' para feminino.\"\n",
    "    \n",
    "    return f\"Resultado da gravidez: {resultado_gravidez}. Sexo do bebê: {sexo_bebe}.\"\n",
    "\n",
    "# Exemplo de uso:\n",
    "valor_exame = float(input(\"Digite o valor do exame: \"))\n",
    "\n",
    "# Verifica se o exame é negativo antes de pedir o sexo\n",
    "if valor_exame <= 5:\n",
    "    print(verificar_gravidez_e_sexo(valor_exame, ''))  # Passando sexo como string vazia\n",
    "else:\n",
    "    sexo = input(\"Digite o sexo do bebê (M/F): \")\n",
    "    resultado = verificar_gravidez_e_sexo(valor_exame, sexo)\n",
    "    print(resultado)"
   ]
  },
  {
   "cell_type": "markdown",
   "metadata": {
    "id": "uCoIZDE383yF"
   },
   "source": [
    "### 02 - Renomeando variáveis\n",
    "\n",
    "Vamos ver adiante que uma forma de renomear variáveis de um conjunto de dados é através de dicionários - o dicionário deve conter como chave o nome original, associando a cada chave um único valor (tipo *str*) que contenha o nome novo.\n",
    "\n",
    "A sua tarefa é escrever um dicionário que possa ser utilizado para traduzir as variáveis ```name``` (nome), ```age``` (idade) e ```income``` (renda). Ou seja, esse dicionário deve relacionar as chaves *name, age* e *income* às suas respectivas traduções."
   ]
  },
  {
   "cell_type": "code",
   "execution_count": 22,
   "metadata": {
    "id": "Bh6ijpbu83yG",
    "outputId": "58fbd8da-ed1d-4e05-df85-041c821948f2"
   },
   "outputs": [
    {
     "name": "stdout",
     "output_type": "stream",
     "text": [
      "name -> nome\n",
      "age -> idade\n",
      "income -> renda\n"
     ]
    }
   ],
   "source": [
    "# Dicionário de traduções\n",
    "traducao = {\n",
    "    \"name\": \"nome\",\n",
    "    \"age\": \"idade\",\n",
    "    \"income\": \"renda\"\n",
    "}\n",
    "for chave, valor in traducao.items():\n",
    "    print(f\"{chave} -> {valor}\")"
   ]
  },
  {
   "cell_type": "markdown",
   "metadata": {
    "id": "95zumO5g83yH"
   },
   "source": [
    "### 03 - É divisível?\n",
    "A sua tarefa é escrever um código que indique se um número ```N``` é divisível por um número P. Escreva um programa que faça essa verificação para quaisquer combinações de ```N``` e ```M``` e devolva uma mensagem indicativa no output."
   ]
  },
  {
   "cell_type": "code",
   "execution_count": 24,
   "metadata": {
    "id": "BR2zOhmN83yI"
   },
   "outputs": [
    {
     "name": "stdin",
     "output_type": "stream",
     "text": [
      "Digite o número N:  2\n",
      "Digite o número M:  3\n"
     ]
    },
    {
     "name": "stdout",
     "output_type": "stream",
     "text": [
      "2 não é divisível por 3.\n"
     ]
    }
   ],
   "source": [
    "N = 42\n",
    "M = 7\n",
    "\n",
    "#Seu código\n",
    "def verificar_divisibilidade(n: int, m: int) -> str:\n",
    "    # Verifica se P é zero para evitar divisão por zero\n",
    "    if m == 0:\n",
    "        return \"Erro: Não é possível dividir por zero.\"\n",
    "    \n",
    "    # Verifica se N é divisível por P\n",
    "    if n % m == 0:\n",
    "        return f\"{n} é divisível por {m}.\"\n",
    "    else:\n",
    "        return f\"{n} não é divisível por {m}.\"\n",
    "\n",
    "# Exemplo de uso\n",
    "try:\n",
    "    n = int(input(\"Digite o número N: \"))\n",
    "    M = int(input(\"Digite o número M: \"))\n",
    "    resultado = verificar_divisibilidade(n, M)\n",
    "    print(resultado)\n",
    "except ValueError:\n",
    "    print(\"Erro: Por favor, insira números inteiros válidos.\")"
   ]
  },
  {
   "cell_type": "markdown",
   "metadata": {
    "id": "0d5Kdrz283yJ"
   },
   "source": [
    "### 04 - Números primos\n",
    "> Um número **N** é primo se e somente se é divisível por 1, -1, por **N** e por -**N**.  \n",
    "\n",
    "Escreva um script que verifica se ```N``` é um número primo, verificando se ```N``` é divisível por todos os números de ```1``` a ```N-1```. Você vai precisar usar alguma ferramenta de *loop* que você aprendeu para isto. No final, devolva uma mensagem no output indicando se o número é primo ou não."
   ]
  },
  {
   "cell_type": "code",
   "execution_count": 28,
   "metadata": {
    "id": "h_lFO-EO83yJ"
   },
   "outputs": [
    {
     "name": "stdin",
     "output_type": "stream",
     "text": [
      "Digite o número N:  1\n"
     ]
    },
    {
     "name": "stdout",
     "output_type": "stream",
     "text": [
      "1 não é um número primo.\n"
     ]
    }
   ],
   "source": [
    "N = 47\n",
    "\n",
    "# seu código abaixo\n",
    "def eh_primo(n: int) -> bool:\n",
    "    # Verifica se N é menor que 2 (não são considerados primos)\n",
    "    if n < 2:\n",
    "        return False\n",
    "    \n",
    "    # Verifica divisibilidade por todos os números de 2 a N-1\n",
    "    for i in range(2, n):\n",
    "        if n % i == 0:\n",
    "            return False  # N não é primo\n",
    "    return True  # N é primo\n",
    "\n",
    "# Exemplo de uso\n",
    "try:\n",
    "    n = int(input(\"Digite o número N: \"))\n",
    "    if eh_primo(n):\n",
    "        print(f\"{n} é um número primo.\")\n",
    "    else:\n",
    "        print(f\"{n} não é um número primo.\")\n",
    "except ValueError:\n",
    "    print(\"Erro: Por favor, insira um número inteiro válido.\")"
   ]
  },
  {
   "cell_type": "markdown",
   "metadata": {
    "id": "zHwDnURO83yK"
   },
   "source": [
    "### 05 - Desafio\n",
    "O algorítmo do exercício anterior não é o mais eficiente. O que você pode fazer para deixá-lo mais eficiente? Ou seja, executar menos comparações, portanto consumir menos tempo.\n",
    "1. Será que precisamos correr o loop até o final sempre?\n",
    "2. Será que precisamos mesmo verificar **todos** os números?\n",
    "3. Será que precisamos ir até N-1?\n",
    "\n",
    "Essas perguntas levam ao tipo de pensamento voltado a deixar um algoritmo mais eficiente. Veja se você consegue melhorar o seu."
   ]
  },
  {
   "cell_type": "code",
   "execution_count": 30,
   "metadata": {
    "id": "DDdwfZOL83yM"
   },
   "outputs": [
    {
     "name": "stdin",
     "output_type": "stream",
     "text": [
      "Digite o número N:  13\n"
     ]
    },
    {
     "name": "stdout",
     "output_type": "stream",
     "text": [
      "13 é um número primo.\n"
     ]
    }
   ],
   "source": [
    "N = 98\n",
    "\n",
    "# seu código aqui\n",
    "import math\n",
    "\n",
    "def eh_primo(n: int) -> bool:\n",
    "    # Verifica se N é menor que 2 (não são considerados primos)\n",
    "    if n < 2:\n",
    "        return False\n",
    "    # Tratando o caso especial do número 2\n",
    "    if n == 2:\n",
    "        return True\n",
    "    # Números pares maiores que 2 não são primos\n",
    "    if n % 2 == 0:\n",
    "        return False\n",
    "    \n",
    "    # Verifica divisibilidade apenas por números ímpares de 3 até a raiz quadrada de N\n",
    "    for i in range(3, int(math.sqrt(n)) + 1, 2):\n",
    "        if n % i == 0:\n",
    "            return False  # N não é primo\n",
    "    return True  # N é primo\n",
    "\n",
    "# Exemplo de uso\n",
    "try:\n",
    "    n = int(input(\"Digite o número N: \"))\n",
    "    if eh_primo(n):\n",
    "        print(f\"{n} é um número primo.\")\n",
    "    else:\n",
    "        print(f\"{n} não é um número primo.\")\n",
    "except ValueError:\n",
    "    print(\"Erro: Por favor, insira um número inteiro válido.\")"
   ]
  },
  {
   "cell_type": "markdown",
   "metadata": {
    "id": "4zhVSQan83yN"
   },
   "source": [
    "### 06 - Peso ideal 1\n",
    "O IMC (índice de massa corpórea) é um indicador de saúde mais bem aceito que o peso. Ele é calculado como:\n",
    "\n",
    "$$ IMC = \\dfrac{peso}{altura^2}$$\n",
    "\n",
    "Segundo a OMS, valores *normais* são entre 18.5 e 24.9.\n",
    "\n",
    "Sua tarefa é encontrar o ponto médio dessa faixa."
   ]
  },
  {
   "cell_type": "code",
   "execution_count": 32,
   "metadata": {
    "id": "3DzxicN983yO",
    "outputId": "6a947e58-88b2-4764-a9ca-717b971adb3d"
   },
   "outputs": [
    {
     "data": {
      "text/plain": [
       "21.7"
      ]
     },
     "execution_count": 32,
     "metadata": {},
     "output_type": "execute_result"
    }
   ],
   "source": [
    "# Definindo os limites inferior e superior da faixa de IMC adequado\n",
    "limite_inferior = 18.5\n",
    "limite_superior = 24.9\n",
    "\n",
    "# Calculando o ponto médio da faixa de IMC adequado\n",
    "imc_ideal = (limite_inferior + limite_superior) / 2\n",
    "\n",
    "# Exibindo o resultado\n",
    "imc_ideal"
   ]
  },
  {
   "cell_type": "markdown",
   "metadata": {
    "id": "Z8uBOym483yP"
   },
   "source": [
    "### 07 - Peso ideal 2\n",
    "Recebendo um valor de altura, encontre o peso '*ideal*' dessa pessoa, que fornece o IMC encontrado acima"
   ]
  },
  {
   "cell_type": "code",
   "execution_count": 34,
   "metadata": {
    "id": "rrNwycte83yP",
    "outputId": "0e63b2ff-3743-48c7-a472-b48a450a0867"
   },
   "outputs": [
    {
     "data": {
      "text/plain": [
       "62.712999999999994"
      ]
     },
     "execution_count": 34,
     "metadata": {},
     "output_type": "execute_result"
    }
   ],
   "source": [
    "altura = 1.70\n",
    "\n",
    "# Seu código\n",
    "\n",
    "peso_ideal = imc_ideal * (altura * altura)\n",
    "\n",
    "# Exibindo o resultado\n",
    "peso_ideal"
   ]
  },
  {
   "cell_type": "markdown",
   "metadata": {
    "id": "zEdM6J_i83yP"
   },
   "source": [
    "### 08 - Peso ideal 3\n",
    "Dada uma lista contendo as alturas de pacientes, crie uma nova lista que contenha o peso '*ideal*' (que fornece o IMC calculado em **Peso ideal 1**) desses pacientes."
   ]
  },
  {
   "cell_type": "code",
   "execution_count": 36,
   "metadata": {
    "id": "KN1mB_My83yQ",
    "outputId": "f070d54d-c156-4546-e3c7-b5bc500059d9"
   },
   "outputs": [
    {
     "data": {
      "text/plain": [
       "[82.51424999999999, 91.19425, 62.712999999999994, 59.07824999999999]"
      ]
     },
     "execution_count": 36,
     "metadata": {},
     "output_type": "execute_result"
    }
   ],
   "source": [
    "lista_alturas = [1.95, 2.05, 1.70, 1.65]\n",
    "\n",
    "lista_peso_ideal = []\n",
    "\n",
    "# seu código\n",
    "\n",
    "# Calculando o peso ideal para cada altura\n",
    "for altura in lista_alturas:\n",
    "    peso_ideal = imc_ideal * (altura ** 2)  # Calculando o peso ideal\n",
    "    lista_peso_ideal.append(peso_ideal)  # Adicionando o peso ideal à lista\n",
    "\n",
    "# Exibindo a lista de pesos ideais\n",
    "lista_peso_ideal"
   ]
  },
  {
   "cell_type": "markdown",
   "metadata": {
    "id": "8OKAtYQM83yQ"
   },
   "source": [
    "### 09 - Peso ideal 4\n",
    "Dada uma lista de tuplas - cada elemento da lista é uma tupla contendo altura e peso de um paciente - crie uma nova lista com o IMC desses pacientes."
   ]
  },
  {
   "cell_type": "code",
   "execution_count": 38,
   "metadata": {
    "id": "FaXgkjzI83yQ",
    "outputId": "8adc5e59-8a72-42db-db6b-6895587e875e"
   },
   "outputs": [
    {
     "data": {
      "text/plain": [
       "[27.777777777777775, 27.548209366391188, 19.188070502453332]"
      ]
     },
     "execution_count": 38,
     "metadata": {},
     "output_type": "execute_result"
    }
   ],
   "source": [
    "altura_peso = [(1.80, 90), (1.65, 75), (1.91, 70)]\n",
    "\n",
    "imc = []\n",
    "\n",
    "# seu código\n",
    "\n",
    "# Calculando o IMC para cada paciente\n",
    "for altura, peso in altura_peso:\n",
    "    imc_calculado = peso / (altura ** 2)  # Calculando o IMC\n",
    "    imc.append(imc_calculado)  # Adicionando o IMC à lista\n",
    "\n",
    "# Exibindo a lista de IMCs\n",
    "imc"
   ]
  },
  {
   "cell_type": "markdown",
   "metadata": {
    "id": "kZdSJqJq83yR"
   },
   "source": [
    "### 10 - Peso ideal 5\n",
    "Dada uma lista de **listas** - cada elemento da lista é uma **lista** contendo altura e peso de um paciente, adicione mais um elemento à lista de cada paciente contendo o IMC do paciente. Verifique também se é 'baixo', 'normal' ou 'alto' segundo os padrões da OMS em que normal é entre 18.5 e 24.9.\n",
    "\n",
    "Reflexão: por que no problema anterior temos que criar uma nova lista, e não podemos adicionar os dados de cada indivíduo à tupla?"
   ]
  },
  {
   "cell_type": "code",
   "execution_count": 48,
   "metadata": {
    "id": "EwszojP283yR"
   },
   "outputs": [
    {
     "data": {
      "text/plain": [
       "[[1.8, 90, 27.777777777777775, 'sobrepeso'],\n",
       " [1.65, 75, 27.548209366391188, 'sobrepeso'],\n",
       " [1.91, 70, 19.188070502453332, 'normal']]"
      ]
     },
     "execution_count": 48,
     "metadata": {},
     "output_type": "execute_result"
    }
   ],
   "source": [
    "altura_peso = [[1.80, 90], [1.65, 75], [1.91, 70]]\n",
    "\n",
    "# seu código\n",
    "\n",
    "# Lista de alturas e pesos dos pacientes\n",
    "altura_peso = [[1.80, 90], [1.65, 75], [1.91, 70]]\n",
    "\n",
    "# Definindo os limites de IMC\n",
    "limite_inferior = 18.5\n",
    "limite_superior = 24.9\n",
    "\n",
    "# Calculando o IMC e adicionando à lista\n",
    "for paciente in altura_peso:\n",
    "    altura = paciente[0]\n",
    "    peso = paciente[1]\n",
    "    \n",
    "    # Calculando o IMC\n",
    "    imc_calculado = peso / (altura ** 2)\n",
    "    \n",
    "    # Classificando o IMC\n",
    "    if imc_calculado < limite_inferior:\n",
    "        classificacao = 'baixo peso'\n",
    "    elif limite_inferior <= imc_calculado <= limite_superior:\n",
    "        classificacao = 'normal'\n",
    "    else:\n",
    "        classificacao = 'sobrepeso'\n",
    "    \n",
    "    # Adicionando IMC e classificação à lista do paciente\n",
    "    paciente.append(imc_calculado)\n",
    "    paciente.append(classificacao)\n",
    "\n",
    "# Exibindo a lista atualizada de pacientes\n",
    "altura_peso"
   ]
  },
  {
   "cell_type": "code",
   "execution_count": null,
   "metadata": {},
   "outputs": [],
   "source": []
  }
 ],
 "metadata": {
  "colab": {
   "collapsed_sections": [],
   "provenance": []
  },
  "kernelspec": {
   "display_name": "Python 3 (ipykernel)",
   "language": "python",
   "name": "python3"
  },
  "language_info": {
   "codemirror_mode": {
    "name": "ipython",
    "version": 3
   },
   "file_extension": ".py",
   "mimetype": "text/x-python",
   "name": "python",
   "nbconvert_exporter": "python",
   "pygments_lexer": "ipython3",
   "version": "3.12.4"
  }
 },
 "nbformat": 4,
 "nbformat_minor": 4
}
